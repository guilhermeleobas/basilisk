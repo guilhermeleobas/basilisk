{
 "cells": [
  {
   "cell_type": "code",
   "execution_count": 1,
   "metadata": {},
   "outputs": [],
   "source": [
    "import pandas as pd\n",
    "import numpy as np\n",
    "\n",
    "from plotnine import *"
   ]
  },
  {
   "cell_type": "code",
   "execution_count": 2,
   "metadata": {},
   "outputs": [],
   "source": [
    "pd.set_option('display.float_format', lambda x: '%.3f' % x)"
   ]
  },
  {
   "cell_type": "markdown",
   "metadata": {},
   "source": [
    "# LLVM"
   ]
  },
  {
   "cell_type": "code",
   "execution_count": 3,
   "metadata": {},
   "outputs": [],
   "source": [
    "llvm_ssa = pd.read_csv('https://docs.google.com/spreadsheets/d/e/2PACX-1vQiEAyOjaH6pg_kCnExOT2-V2blX0kAGM1oPhVOGepOtmU_wA68oyu-ZX2cUNkX-JDddJUQf_EUb5ji/pub?gid=0&single=true&output=csv')"
   ]
  },
  {
   "cell_type": "markdown",
   "metadata": {},
   "source": [
    "# Stores"
   ]
  },
  {
   "cell_type": "code",
   "execution_count": 28,
   "metadata": {},
   "outputs": [],
   "source": [
    "stores = pd.read_csv('https://docs.google.com/spreadsheets/d/e/2PACX-1vQTcwwyDo6wiFfgryeplLtTgSjwuJXAtDxCjKzRFXGh6PuVHGhhWjfr7Gux6y35QK8bnBBTg8Fyli-R/pub?gid=0&single=true&output=csv')\n",
    "stores = stores.join(llvm_ssa['STORE'])\n",
    "stores = stores.reset_index(drop=True)\n",
    "stores['visible'] = stores.STORE/stores.stores_total\n",
    "stores['invisible'] = 1 - stores.visible\n",
    "stores['group'] = stores.benchmark.apply(lambda x: x.split('/')[1])"
   ]
  },
  {
   "cell_type": "code",
   "execution_count": 5,
   "metadata": {},
   "outputs": [
    {
     "data": {
      "text/html": [
       "<div>\n",
       "<style scoped>\n",
       "    .dataframe tbody tr th:only-of-type {\n",
       "        vertical-align: middle;\n",
       "    }\n",
       "\n",
       "    .dataframe tbody tr th {\n",
       "        vertical-align: top;\n",
       "    }\n",
       "\n",
       "    .dataframe thead th {\n",
       "        text-align: right;\n",
       "    }\n",
       "</style>\n",
       "<table border=\"1\" class=\"dataframe\">\n",
       "  <thead>\n",
       "    <tr style=\"text-align: right;\">\n",
       "      <th></th>\n",
       "      <th>index</th>\n",
       "      <th>benchmark</th>\n",
       "      <th>stores_before</th>\n",
       "      <th>stores_main</th>\n",
       "      <th>stores_end</th>\n",
       "      <th>stores_total</th>\n",
       "      <th>STORE</th>\n",
       "      <th>visible</th>\n",
       "      <th>invisible</th>\n",
       "    </tr>\n",
       "  </thead>\n",
       "  <tbody>\n",
       "    <tr>\n",
       "      <th>0</th>\n",
       "      <td>0</td>\n",
       "      <td>Benchs/ASC_Sequoia/AMGmk</td>\n",
       "      <td>12375</td>\n",
       "      <td>1383459703</td>\n",
       "      <td>176</td>\n",
       "      <td>1383472254</td>\n",
       "      <td>1258505118</td>\n",
       "      <td>0.910</td>\n",
       "      <td>0.090</td>\n",
       "    </tr>\n",
       "    <tr>\n",
       "      <th>1</th>\n",
       "      <td>1</td>\n",
       "      <td>Benchs/ASC_Sequoia/CrystalMk</td>\n",
       "      <td>12244</td>\n",
       "      <td>2584006244</td>\n",
       "      <td>176</td>\n",
       "      <td>2584018664</td>\n",
       "      <td>2016000636</td>\n",
       "      <td>0.780</td>\n",
       "      <td>0.220</td>\n",
       "    </tr>\n",
       "    <tr>\n",
       "      <th>2</th>\n",
       "      <td>2</td>\n",
       "      <td>Benchs/ASC_Sequoia/IRSmk</td>\n",
       "      <td>12230</td>\n",
       "      <td>82411190</td>\n",
       "      <td>176</td>\n",
       "      <td>82423596</td>\n",
       "      <td>78783553</td>\n",
       "      <td>0.956</td>\n",
       "      <td>0.044</td>\n",
       "    </tr>\n",
       "    <tr>\n",
       "      <th>3</th>\n",
       "      <td>3</td>\n",
       "      <td>Benchs/ASCI_Purple</td>\n",
       "      <td>12342</td>\n",
       "      <td>45609710</td>\n",
       "      <td>176</td>\n",
       "      <td>45622228</td>\n",
       "      <td>30708782</td>\n",
       "      <td>0.673</td>\n",
       "      <td>0.327</td>\n",
       "    </tr>\n",
       "    <tr>\n",
       "      <th>4</th>\n",
       "      <td>4</td>\n",
       "      <td>Benchs/BenchmarkGame/fannkuch</td>\n",
       "      <td>12211</td>\n",
       "      <td>1834678475</td>\n",
       "      <td>176</td>\n",
       "      <td>1834690862</td>\n",
       "      <td>1801621248</td>\n",
       "      <td>0.982</td>\n",
       "      <td>0.018</td>\n",
       "    </tr>\n",
       "  </tbody>\n",
       "</table>\n",
       "</div>"
      ],
      "text/plain": [
       "   index                      benchmark  stores_before  stores_main  \\\n",
       "0      0       Benchs/ASC_Sequoia/AMGmk          12375   1383459703   \n",
       "1      1   Benchs/ASC_Sequoia/CrystalMk          12244   2584006244   \n",
       "2      2       Benchs/ASC_Sequoia/IRSmk          12230     82411190   \n",
       "3      3             Benchs/ASCI_Purple          12342     45609710   \n",
       "4      4  Benchs/BenchmarkGame/fannkuch          12211   1834678475   \n",
       "\n",
       "   stores_end  stores_total       STORE  visible  invisible  \n",
       "0         176    1383472254  1258505118    0.910      0.090  \n",
       "1         176    2584018664  2016000636    0.780      0.220  \n",
       "2         176      82423596    78783553    0.956      0.044  \n",
       "3         176      45622228    30708782    0.673      0.327  \n",
       "4         176    1834690862  1801621248    0.982      0.018  "
      ]
     },
     "execution_count": 5,
     "metadata": {},
     "output_type": "execute_result"
    }
   ],
   "source": [
    "stores.head()"
   ]
  },
  {
   "cell_type": "code",
   "execution_count": 173,
   "metadata": {},
   "outputs": [
    {
     "data": {
      "image/png": "[encoded data removed]",
      "text/plain": [
       "<Figure size 640x480 with 1 Axes>"
      ]
     },
     "metadata": {},
     "output_type": "display_data"
    },
    {
     "data": {
      "text/plain": [
       "<ggplot: (280522444)>"
      ]
     },
     "execution_count": 173,
     "metadata": {},
     "output_type": "execute_result"
    }
   ],
   "source": [
    "(ggplot(stores, aes(x='invisible'))\n",
    " + geom_histogram(color='white', bins=15)\n",
    " + ggtitle('Store')\n",
    " + ylab('')\n",
    " + xlab('Percentage Invisible')\n",
    " + theme_classic()\n",
    ")"
   ]
  },
  {
   "cell_type": "markdown",
   "metadata": {},
   "source": [
    "# Loads"
   ]
  },
  {
   "cell_type": "code",
   "execution_count": 55,
   "metadata": {},
   "outputs": [],
   "source": [
    "loads = pd.read_csv('https://docs.google.com/spreadsheets/d/e/2PACX-1vQTcwwyDo6wiFfgryeplLtTgSjwuJXAtDxCjKzRFXGh6PuVHGhhWjfr7Gux6y35QK8bnBBTg8Fyli-R/pub?gid=149453782&single=true&output=csv')\n",
    "loads = loads.join(llvm_ssa['LOAD'])\n",
    "loads = loads.reset_index(drop=True)\n",
    "loads['visible'] = loads.LOAD/loads.loads_total\n",
    "loads['invisible'] = 1 - loads.visible"
   ]
  },
  {
   "cell_type": "code",
   "execution_count": 56,
   "metadata": {},
   "outputs": [
    {
     "data": {
      "text/html": [
       "<div>\n",
       "<style scoped>\n",
       "    .dataframe tbody tr th:only-of-type {\n",
       "        vertical-align: middle;\n",
       "    }\n",
       "\n",
       "    .dataframe tbody tr th {\n",
       "        vertical-align: top;\n",
       "    }\n",
       "\n",
       "    .dataframe thead th {\n",
       "        text-align: right;\n",
       "    }\n",
       "</style>\n",
       "<table border=\"1\" class=\"dataframe\">\n",
       "  <thead>\n",
       "    <tr style=\"text-align: right;\">\n",
       "      <th></th>\n",
       "      <th>benchmark</th>\n",
       "      <th>loads_before</th>\n",
       "      <th>loads_main</th>\n",
       "      <th>loads_end</th>\n",
       "      <th>loads_total</th>\n",
       "      <th>LOAD</th>\n",
       "      <th>visible</th>\n",
       "      <th>invisible</th>\n",
       "    </tr>\n",
       "  </thead>\n",
       "  <tbody>\n",
       "    <tr>\n",
       "      <th>0</th>\n",
       "      <td>Benchs/ASC_Sequoia/AMGmk</td>\n",
       "      <td>26701</td>\n",
       "      <td>19711140648</td>\n",
       "      <td>338</td>\n",
       "      <td>19711167687</td>\n",
       "      <td>16019912093</td>\n",
       "      <td>0.813</td>\n",
       "      <td>0.187</td>\n",
       "    </tr>\n",
       "    <tr>\n",
       "      <th>1</th>\n",
       "      <td>Benchs/ASC_Sequoia/CrystalMk</td>\n",
       "      <td>26475</td>\n",
       "      <td>7176021950</td>\n",
       "      <td>338</td>\n",
       "      <td>7176048763</td>\n",
       "      <td>5686000165</td>\n",
       "      <td>0.792</td>\n",
       "      <td>0.208</td>\n",
       "    </tr>\n",
       "    <tr>\n",
       "      <th>2</th>\n",
       "      <td>Benchs/ASC_Sequoia/IRSmk</td>\n",
       "      <td>26432</td>\n",
       "      <td>7048319698</td>\n",
       "      <td>338</td>\n",
       "      <td>7048346468</td>\n",
       "      <td>4218972134</td>\n",
       "      <td>0.599</td>\n",
       "      <td>0.401</td>\n",
       "    </tr>\n",
       "    <tr>\n",
       "      <th>3</th>\n",
       "      <td>Benchs/ASCI_Purple</td>\n",
       "      <td>26691</td>\n",
       "      <td>121303558</td>\n",
       "      <td>338</td>\n",
       "      <td>121330587</td>\n",
       "      <td>92787467</td>\n",
       "      <td>0.765</td>\n",
       "      <td>0.235</td>\n",
       "    </tr>\n",
       "    <tr>\n",
       "      <th>4</th>\n",
       "      <td>Benchs/BenchmarkGame/fannkuch</td>\n",
       "      <td>26333</td>\n",
       "      <td>1915257588</td>\n",
       "      <td>338</td>\n",
       "      <td>1915284259</td>\n",
       "      <td>1882176935</td>\n",
       "      <td>0.983</td>\n",
       "      <td>0.017</td>\n",
       "    </tr>\n",
       "  </tbody>\n",
       "</table>\n",
       "</div>"
      ],
      "text/plain": [
       "                       benchmark  loads_before   loads_main  loads_end  \\\n",
       "0       Benchs/ASC_Sequoia/AMGmk         26701  19711140648        338   \n",
       "1   Benchs/ASC_Sequoia/CrystalMk         26475   7176021950        338   \n",
       "2       Benchs/ASC_Sequoia/IRSmk         26432   7048319698        338   \n",
       "3             Benchs/ASCI_Purple         26691    121303558        338   \n",
       "4  Benchs/BenchmarkGame/fannkuch         26333   1915257588        338   \n",
       "\n",
       "   loads_total         LOAD  visible  invisible  \n",
       "0  19711167687  16019912093    0.813      0.187  \n",
       "1   7176048763   5686000165    0.792      0.208  \n",
       "2   7048346468   4218972134    0.599      0.401  \n",
       "3    121330587     92787467    0.765      0.235  \n",
       "4   1915284259   1882176935    0.983      0.017  "
      ]
     },
     "execution_count": 56,
     "metadata": {},
     "output_type": "execute_result"
    }
   ],
   "source": [
    "loads.head()"
   ]
  },
  {
   "cell_type": "code",
   "execution_count": 57,
   "metadata": {},
   "outputs": [
    {
     "data": {
      "image/png": "[encoded data removed]",
      "text/plain": [
       "<Figure size 640x480 with 1 Axes>"
      ]
     },
     "metadata": {},
     "output_type": "display_data"
    },
    {
     "data": {
      "text/plain": [
       "<ggplot: (-9223372036575519530)>"
      ]
     },
     "execution_count": 57,
     "metadata": {},
     "output_type": "execute_result"
    }
   ],
   "source": [
    "(ggplot(loads, aes(x='invisible'))\n",
    " + geom_histogram(color='white', bins=15)\n",
    " + ggtitle('Load')\n",
    " + ylab('')\n",
    " + xlab('Percentage Invisible')\n",
    " + theme_classic()\n",
    ")"
   ]
  },
  {
   "cell_type": "markdown",
   "metadata": {},
   "source": [
    "# BR"
   ]
  },
  {
   "cell_type": "code",
   "execution_count": 66,
   "metadata": {},
   "outputs": [],
   "source": [
    "br = pd.read_csv('https://docs.google.com/spreadsheets/d/e/2PACX-1vQTcwwyDo6wiFfgryeplLtTgSjwuJXAtDxCjKzRFXGh6PuVHGhhWjfr7Gux6y35QK8bnBBTg8Fyli-R/pub?gid=1215540105&single=true&output=csv')\n",
    "br = br.join(llvm_ssa['BR'])\n",
    "br['visible'] = br.BR/(br.br_main + br.indirect_main)\n",
    "br['invisible'] = 1 - br.visible"
   ]
  },
  {
   "cell_type": "code",
   "execution_count": 67,
   "metadata": {},
   "outputs": [
    {
     "data": {
      "text/html": [
       "<div>\n",
       "<style scoped>\n",
       "    .dataframe tbody tr th:only-of-type {\n",
       "        vertical-align: middle;\n",
       "    }\n",
       "\n",
       "    .dataframe tbody tr th {\n",
       "        vertical-align: top;\n",
       "    }\n",
       "\n",
       "    .dataframe thead th {\n",
       "        text-align: right;\n",
       "    }\n",
       "</style>\n",
       "<table border=\"1\" class=\"dataframe\">\n",
       "  <thead>\n",
       "    <tr style=\"text-align: right;\">\n",
       "      <th></th>\n",
       "      <th>benchmark</th>\n",
       "      <th>br_before</th>\n",
       "      <th>br_main</th>\n",
       "      <th>br_end</th>\n",
       "      <th>indirect_before</th>\n",
       "      <th>indirect_main</th>\n",
       "      <th>indirect_end</th>\n",
       "      <th>BR</th>\n",
       "      <th>visible</th>\n",
       "      <th>invisible</th>\n",
       "    </tr>\n",
       "  </thead>\n",
       "  <tbody>\n",
       "    <tr>\n",
       "      <th>0</th>\n",
       "      <td>Benchs/ASC_Sequoia/AMGmk</td>\n",
       "      <td>17497</td>\n",
       "      <td>10639581979</td>\n",
       "      <td>235</td>\n",
       "      <td>273</td>\n",
       "      <td>4132</td>\n",
       "      <td>1</td>\n",
       "      <td>6917411526</td>\n",
       "      <td>0.650</td>\n",
       "      <td>0.350</td>\n",
       "    </tr>\n",
       "    <tr>\n",
       "      <th>1</th>\n",
       "      <td>Benchs/ASC_Sequoia/CrystalMk</td>\n",
       "      <td>17295</td>\n",
       "      <td>3734020279</td>\n",
       "      <td>235</td>\n",
       "      <td>257</td>\n",
       "      <td>48000087</td>\n",
       "      <td>1</td>\n",
       "      <td>2966000357</td>\n",
       "      <td>0.784</td>\n",
       "      <td>0.216</td>\n",
       "    </tr>\n",
       "    <tr>\n",
       "      <th>2</th>\n",
       "      <td>Benchs/ASC_Sequoia/IRSmk</td>\n",
       "      <td>17298</td>\n",
       "      <td>87829012</td>\n",
       "      <td>235</td>\n",
       "      <td>260</td>\n",
       "      <td>135</td>\n",
       "      <td>1</td>\n",
       "      <td>84682057</td>\n",
       "      <td>0.964</td>\n",
       "      <td>0.036</td>\n",
       "    </tr>\n",
       "    <tr>\n",
       "      <th>3</th>\n",
       "      <td>Benchs/ASCI_Purple</td>\n",
       "      <td>17463</td>\n",
       "      <td>46890868</td>\n",
       "      <td>235</td>\n",
       "      <td>266</td>\n",
       "      <td>225699</td>\n",
       "      <td>1</td>\n",
       "      <td>38083058</td>\n",
       "      <td>0.808</td>\n",
       "      <td>0.192</td>\n",
       "    </tr>\n",
       "    <tr>\n",
       "      <th>4</th>\n",
       "      <td>Benchs/BenchmarkGame/fannkuch</td>\n",
       "      <td>17270</td>\n",
       "      <td>1877453759</td>\n",
       "      <td>235</td>\n",
       "      <td>268</td>\n",
       "      <td>717</td>\n",
       "      <td>1</td>\n",
       "      <td>1812452281</td>\n",
       "      <td>0.965</td>\n",
       "      <td>0.035</td>\n",
       "    </tr>\n",
       "  </tbody>\n",
       "</table>\n",
       "</div>"
      ],
      "text/plain": [
       "                       benchmark  br_before      br_main  br_end  \\\n",
       "0       Benchs/ASC_Sequoia/AMGmk      17497  10639581979     235   \n",
       "1   Benchs/ASC_Sequoia/CrystalMk      17295   3734020279     235   \n",
       "2       Benchs/ASC_Sequoia/IRSmk      17298     87829012     235   \n",
       "3             Benchs/ASCI_Purple      17463     46890868     235   \n",
       "4  Benchs/BenchmarkGame/fannkuch      17270   1877453759     235   \n",
       "\n",
       "   indirect_before  indirect_main  indirect_end          BR  visible  \\\n",
       "0              273           4132             1  6917411526    0.650   \n",
       "1              257       48000087             1  2966000357    0.784   \n",
       "2              260            135             1    84682057    0.964   \n",
       "3              266         225699             1    38083058    0.808   \n",
       "4              268            717             1  1812452281    0.965   \n",
       "\n",
       "   invisible  \n",
       "0      0.350  \n",
       "1      0.216  \n",
       "2      0.036  \n",
       "3      0.192  \n",
       "4      0.035  "
      ]
     },
     "execution_count": 67,
     "metadata": {},
     "output_type": "execute_result"
    }
   ],
   "source": [
    "br.head()"
   ]
  },
  {
   "cell_type": "code",
   "execution_count": 72,
   "metadata": {},
   "outputs": [
    {
     "data": {
      "image/png": "[encoded data removed]",
      "text/plain": [
       "<Figure size 640x480 with 1 Axes>"
      ]
     },
     "metadata": {},
     "output_type": "display_data"
    },
    {
     "data": {
      "text/plain": [
       "<ggplot: (278464751)>"
      ]
     },
     "execution_count": 72,
     "metadata": {},
     "output_type": "execute_result"
    }
   ],
   "source": [
    "(ggplot(br, aes(x='invisible'))\n",
    " + geom_histogram(color='white', bins=15)\n",
    " + ggtitle('Branch')\n",
    " + ylab('')\n",
    " + xlab('Percentage Invisible')\n",
    " + theme_classic()\n",
    ")"
   ]
  },
  {
   "cell_type": "code",
   "execution_count": null,
   "metadata": {},
   "outputs": [],
   "source": []
  },
  {
   "cell_type": "markdown",
   "metadata": {},
   "source": [
    "# binops"
   ]
  },
  {
   "cell_type": "code",
   "execution_count": 167,
   "metadata": {},
   "outputs": [],
   "source": [
    "binops = pd.read_csv('https://docs.google.com/spreadsheets/d/e/2PACX-1vQTcwwyDo6wiFfgryeplLtTgSjwuJXAtDxCjKzRFXGh6PuVHGhhWjfr7Gux6y35QK8bnBBTg8Fyli-R/pub?gid=770672452&single=true&output=csv')\n",
    "\n",
    "for t in ['ADD', 'DIV', 'MUL', 'FADD', 'FMUL']:\n",
    "    binops[t + '_total'] = binops[t + '_before'] + binops[t + '_main'] + binops[t + '_end']"
   ]
  },
  {
   "cell_type": "markdown",
   "metadata": {},
   "source": [
    "## ADD"
   ]
  },
  {
   "cell_type": "code",
   "execution_count": 91,
   "metadata": {},
   "outputs": [],
   "source": [
    "add = binops[['ADD_before', 'ADD_main', 'ADD_end', 'ADD_total', 'benchmark']]\n",
    "add = add.join(llvm_ssa['ADD'])\n",
    "add = add.reset_index(drop=True)\n",
    "add['visible'] = add.ADD/add.ADD_total\n",
    "add['invisible'] = 1 - add.visible"
   ]
  },
  {
   "cell_type": "code",
   "execution_count": 100,
   "metadata": {},
   "outputs": [
    {
     "data": {
      "image/png": "[encoded data removed]",
      "text/plain": [
       "<Figure size 640x480 with 1 Axes>"
      ]
     },
     "metadata": {},
     "output_type": "display_data"
    },
    {
     "data": {
      "text/plain": [
       "<ggplot: (278422890)>"
      ]
     },
     "execution_count": 100,
     "metadata": {},
     "output_type": "execute_result"
    }
   ],
   "source": [
    "(ggplot(add[add.invisible >= -1], aes(x='invisible'))\n",
    " + geom_histogram(color='white', bins=15)\n",
    " + ggtitle('Add')\n",
    " + ylab('')\n",
    " + xlab('Percentage Invisible')\n",
    " + theme_classic()\n",
    ")"
   ]
  },
  {
   "cell_type": "code",
   "execution_count": null,
   "metadata": {},
   "outputs": [],
   "source": []
  },
  {
   "cell_type": "markdown",
   "metadata": {},
   "source": [
    "## Div"
   ]
  },
  {
   "cell_type": "code",
   "execution_count": 133,
   "metadata": {},
   "outputs": [],
   "source": [
    "div = binops[['DIV_before', 'DIV_main', 'DIV_end', 'DIV_total', 'benchmark']]\n",
    "llvm_ssa['DIV'] = llvm_ssa['SDIV'] + llvm_ssa['UDIV'] + llvm_ssa['SREM'] + llvm_ssa['UREM']\n",
    "div = div.join(llvm_ssa['DIV'])\n",
    "div['visible'] = div.DIV/div.DIV_total\n",
    "div['invisible'] = 1 - div.visible"
   ]
  },
  {
   "cell_type": "code",
   "execution_count": 134,
   "metadata": {},
   "outputs": [
    {
     "data": {
      "image/png": "[encoded data removed]",
      "text/plain": [
       "<Figure size 640x480 with 1 Axes>"
      ]
     },
     "metadata": {},
     "output_type": "display_data"
    },
    {
     "data": {
      "text/plain": [
       "<ggplot: (-9223372036574909980)>"
      ]
     },
     "execution_count": 134,
     "metadata": {},
     "output_type": "execute_result"
    }
   ],
   "source": [
    "(ggplot(div[div.invisible > 0], aes(x='invisible'))\n",
    " + geom_histogram(color='white', bins=15)\n",
    " + ggtitle('DIV')\n",
    " + ylab('')\n",
    " + xlab('Percentage Invisible')\n",
    " + theme_classic()\n",
    ")"
   ]
  },
  {
   "cell_type": "code",
   "execution_count": null,
   "metadata": {},
   "outputs": [],
   "source": []
  },
  {
   "cell_type": "markdown",
   "metadata": {},
   "source": [
    "## MUL"
   ]
  },
  {
   "cell_type": "code",
   "execution_count": 145,
   "metadata": {},
   "outputs": [],
   "source": [
    "t = 'MUL'\n",
    "mul = binops[[t + '_before', t + '_main', t + '_end', t + '_total', 'benchmark']]\n",
    "mul = mul.join(llvm_ssa[t])\n",
    "mul['visible'] = mul[t]/mul[t + '_total']\n",
    "mul['invisible'] = 1 - mul.visible"
   ]
  },
  {
   "cell_type": "code",
   "execution_count": 158,
   "metadata": {},
   "outputs": [
    {
     "data": {
      "image/png": "[encoded data removed]",
      "text/plain": [
       "<Figure size 640x480 with 1 Axes>"
      ]
     },
     "metadata": {},
     "output_type": "display_data"
    },
    {
     "data": {
      "text/plain": [
       "<ggplot: (-9223372036575262660)>"
      ]
     },
     "execution_count": 158,
     "metadata": {},
     "output_type": "execute_result"
    }
   ],
   "source": [
    "(ggplot(mul[mul.invisible > -1], aes(x='invisible'))\n",
    " + geom_histogram(color='white', bins=15)\n",
    " + ggtitle('Mul')\n",
    " + ylab('')\n",
    " + xlab('Percentage Invisible')\n",
    " + theme_classic()\n",
    ")"
   ]
  },
  {
   "cell_type": "code",
   "execution_count": null,
   "metadata": {},
   "outputs": [],
   "source": []
  },
  {
   "cell_type": "markdown",
   "metadata": {},
   "source": [
    "## FADD"
   ]
  },
  {
   "cell_type": "code",
   "execution_count": 163,
   "metadata": {},
   "outputs": [],
   "source": [
    "t = 'FADD'\n",
    "fadd = binops[[t + '_before', t + '_main', t + '_end', t + '_total', 'benchmark']]\n",
    "fadd = fadd.join(llvm_ssa[t])\n",
    "fadd['visible'] = fadd[t]/fadd[t + '_total']\n",
    "fadd['invisible'] = 1 - fadd.visible"
   ]
  },
  {
   "cell_type": "code",
   "execution_count": 166,
   "metadata": {},
   "outputs": [
    {
     "name": "stderr",
     "output_type": "stream",
     "text": [
      "/Users/guilhermeleobas/Library/Python/3.7/lib/python/site-packages/plotnine/layer.py:363: UserWarning: stat_bin : Removed 100 rows containing non-finite values.\n",
      "  data = self.stat.compute_layer(data, params, layout)\n"
     ]
    },
    {
     "data": {
      "image/png": "[encoded data removed]",
      "text/plain": [
       "<Figure size 640x480 with 1 Axes>"
      ]
     },
     "metadata": {},
     "output_type": "display_data"
    },
    {
     "data": {
      "text/plain": [
       "<ggplot: (279595994)>"
      ]
     },
     "execution_count": 166,
     "metadata": {},
     "output_type": "execute_result"
    }
   ],
   "source": [
    "(ggplot(fadd, aes(x='invisible'))\n",
    " + geom_histogram(color='white', bins=15)\n",
    " + ggtitle('FAdd')\n",
    " + ylab('')\n",
    " + xlab('Percentage Invisible')\n",
    " + theme_classic()\n",
    ")"
   ]
  },
  {
   "cell_type": "code",
   "execution_count": null,
   "metadata": {},
   "outputs": [],
   "source": []
  },
  {
   "cell_type": "markdown",
   "metadata": {},
   "source": [
    "## FMUL"
   ]
  },
  {
   "cell_type": "code",
   "execution_count": 168,
   "metadata": {},
   "outputs": [],
   "source": [
    "t = 'FMUL'\n",
    "fmul = binops[[t + '_before', t + '_main', t + '_end', t + '_total', 'benchmark']]\n",
    "fmul = fmul.join(llvm_ssa[t])\n",
    "fmul['visible'] = fmul[t]/fmul[t + '_total']\n",
    "fmul['invisible'] = 1 - fmul.visible"
   ]
  },
  {
   "cell_type": "code",
   "execution_count": 172,
   "metadata": {},
   "outputs": [
    {
     "data": {
      "text/html": [
       "<div>\n",
       "<style scoped>\n",
       "    .dataframe tbody tr th:only-of-type {\n",
       "        vertical-align: middle;\n",
       "    }\n",
       "\n",
       "    .dataframe tbody tr th {\n",
       "        vertical-align: top;\n",
       "    }\n",
       "\n",
       "    .dataframe thead th {\n",
       "        text-align: right;\n",
       "    }\n",
       "</style>\n",
       "<table border=\"1\" class=\"dataframe\">\n",
       "  <thead>\n",
       "    <tr style=\"text-align: right;\">\n",
       "      <th></th>\n",
       "      <th>FMUL_before</th>\n",
       "      <th>FMUL_main</th>\n",
       "      <th>FMUL_end</th>\n",
       "      <th>FMUL_total</th>\n",
       "      <th>benchmark</th>\n",
       "      <th>FMUL</th>\n",
       "      <th>visible</th>\n",
       "      <th>invisible</th>\n",
       "    </tr>\n",
       "  </thead>\n",
       "  <tbody>\n",
       "    <tr>\n",
       "      <th>49</th>\n",
       "      <td>0</td>\n",
       "      <td>7575</td>\n",
       "      <td>0</td>\n",
       "      <td>7575</td>\n",
       "      <td>Benchs/mafft</td>\n",
       "      <td>1452423</td>\n",
       "      <td>191.739</td>\n",
       "      <td>-190.739</td>\n",
       "    </tr>\n",
       "    <tr>\n",
       "      <th>146</th>\n",
       "      <td>0</td>\n",
       "      <td>0</td>\n",
       "      <td>0</td>\n",
       "      <td>0</td>\n",
       "      <td>Benchs/Ptrdist/ks</td>\n",
       "      <td>35579250</td>\n",
       "      <td>inf</td>\n",
       "      <td>-inf</td>\n",
       "    </tr>\n",
       "  </tbody>\n",
       "</table>\n",
       "</div>"
      ],
      "text/plain": [
       "     FMUL_before  FMUL_main  FMUL_end  FMUL_total          benchmark  \\\n",
       "49             0       7575         0        7575       Benchs/mafft   \n",
       "146            0          0         0           0  Benchs/Ptrdist/ks   \n",
       "\n",
       "         FMUL  visible  invisible  \n",
       "49    1452423  191.739   -190.739  \n",
       "146  35579250      inf       -inf  "
      ]
     },
     "execution_count": 172,
     "metadata": {},
     "output_type": "execute_result"
    }
   ],
   "source": [
    "fmul[fmul.invisible < -10]"
   ]
  },
  {
   "cell_type": "code",
   "execution_count": 171,
   "metadata": {},
   "outputs": [
    {
     "data": {
      "image/png": "[encoded data removed]",
      "text/plain": [
       "<Figure size 640x480 with 1 Axes>"
      ]
     },
     "metadata": {},
     "output_type": "display_data"
    },
    {
     "data": {
      "text/plain": [
       "<ggplot: (278978259)>"
      ]
     },
     "execution_count": 171,
     "metadata": {},
     "output_type": "execute_result"
    }
   ],
   "source": [
    "(ggplot(fmul[fmul.invisible > -10], aes(x='invisible'))\n",
    " + geom_histogram(color='white', bins=15)\n",
    " + ggtitle('FMul')\n",
    " + ylab('')\n",
    " + xlab('Percentage Invisible')\n",
    " + theme_classic()\n",
    ")"
   ]
  },
  {
   "cell_type": "code",
   "execution_count": null,
   "metadata": {},
   "outputs": [],
   "source": []
  },
  {
   "cell_type": "code",
   "execution_count": null,
   "metadata": {},
   "outputs": [],
   "source": []
  },
  {
   "cell_type": "code",
   "execution_count": null,
   "metadata": {},
   "outputs": [],
   "source": []
  },
  {
   "cell_type": "code",
   "execution_count": null,
   "metadata": {},
   "outputs": [],
   "source": []
  }
 ],
 "metadata": {
  "kernelspec": {
   "display_name": "Python 3",
   "language": "python",
   "name": "python3"
  },
  "language_info": {
   "codemirror_mode": {
    "name": "ipython",
    "version": 3
   },
   "file_extension": ".py",
   "mimetype": "text/x-python",
   "name": "python",
   "nbconvert_exporter": "python",
   "pygments_lexer": "ipython3",
   "version": "3.7.0"
  }
 },
 "nbformat": 4,
 "nbformat_minor": 2
}
