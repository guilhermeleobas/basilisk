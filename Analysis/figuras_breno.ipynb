{
 "cells": [
  {
   "cell_type": "code",
   "execution_count": 2,
   "metadata": {},
   "outputs": [
    {
     "name": "stderr",
     "output_type": "stream",
     "text": [
      "/usr/lib/python3.5/importlib/_bootstrap.py:222: RuntimeWarning: numpy.dtype size changed, may indicate binary incompatibility. Expected 96, got 88\n",
      "  return f(*args, **kwds)\n",
      "/usr/lib/python3.5/importlib/_bootstrap.py:222: RuntimeWarning: numpy.dtype size changed, may indicate binary incompatibility. Expected 96, got 88\n",
      "  return f(*args, **kwds)\n",
      "/usr/lib/python3.5/importlib/_bootstrap.py:222: RuntimeWarning: numpy.dtype size changed, may indicate binary incompatibility. Expected 96, got 88\n",
      "  return f(*args, **kwds)\n",
      "/usr/lib/python3.5/importlib/_bootstrap.py:222: RuntimeWarning: numpy.dtype size changed, may indicate binary incompatibility. Expected 96, got 88\n",
      "  return f(*args, **kwds)\n"
     ]
    }
   ],
   "source": [
    "import pandas as pd\n",
    "import numpy as np\n",
    "from plotnine import *"
   ]
  },
  {
   "cell_type": "code",
   "execution_count": null,
   "metadata": {},
   "outputs": [],
   "source": []
  },
  {
   "cell_type": "code",
   "execution_count": 14,
   "metadata": {},
   "outputs": [],
   "source": [
    "def parse_pin(df):\n",
    "    columns = ['LOAD', 'STORE', \n",
    "               'ADD', 'SUB', 'MUL', 'DIV',\n",
    "               'AND', 'OR', 'XOR',\n",
    "               'ASHR', 'LSHR', 'SHL',\n",
    "               'CMP', 'FCMP',\n",
    "               'FADD', 'FSUB', 'FMUL', 'FDIV']\n",
    "    \n",
    "    for column in columns:\n",
    "#         df[column.lower()] = df[column + '_before'] + df[column + '_main'] + df[column + '_end']\n",
    "        df[column.lower()] = df[column + '_main']\n",
    "        \n",
    "#     df['br'] = df['br_before'] + df['br_main'] + df['br_end'] + df['indirect_before'] + df['indirect_main'] + df['indirect_main']\n",
    "    df['br'] = df['br_main'] + df['indirect_main']\n",
    "    \n",
    "    return df[['Benchmark'] + list(map(lambda x: x.lower(), columns)) + ['br']]"
   ]
  },
  {
   "cell_type": "code",
   "execution_count": null,
   "metadata": {},
   "outputs": [],
   "source": []
  },
  {
   "cell_type": "code",
   "execution_count": 15,
   "metadata": {},
   "outputs": [],
   "source": [
    "llvm_c = pd.read_csv('breno/llvm_c.csv')\n",
    "llvm_cpp = pd.read_csv('breno/llvm_cpp.csv')\n",
    "llvm_d = pd.read_csv('breno/llvm_d.csv')"
   ]
  },
  {
   "cell_type": "code",
   "execution_count": 16,
   "metadata": {},
   "outputs": [],
   "source": [
    "pin_c = pd.read_csv('breno/pin_c.csv').pipe(parse_pin)\n",
    "pin_cpp = pd.read_csv('breno/pin_cpp.csv').pipe(parse_pin)\n",
    "pin_d = pd.read_csv('breno/pin_d.csv').pipe(parse_pin)"
   ]
  },
  {
   "cell_type": "code",
   "execution_count": 17,
   "metadata": {},
   "outputs": [],
   "source": [
    "def visible(llvm, pin, col_llvm, col_pin, name):\n",
    "    df = pd.merge(llvm, pin, on='Benchmark')\n",
    "    df['llvm'] = df[col_llvm].sum(axis=1)\n",
    "    df['pin'] = df[col_pin].sum(axis=1)\n",
    "    df[name + '_visible'] = df['llvm'] / df['pin']\n",
    "    return df[['Benchmark', name + '_visible']]\n",
    "#     df[name + '_visible'] = df[col_llvm].sum(axis=1) / df[col_pin].sum(axis=1)\n",
    "#     return df[['Benchmark', name + '_visible']].fillna(0)"
   ]
  },
  {
   "cell_type": "code",
   "execution_count": 35,
   "metadata": {},
   "outputs": [],
   "source": [
    "def build_table(llvm, pin):\n",
    "    df = pd.DataFrame({'Benchmark': llvm['Benchmark']})\n",
    "    df = pd.merge(df, visible(llvm, pin, ['STORE'], ['store'], 'store'), on='Benchmark')\n",
    "    df = pd.merge(df, visible(llvm, pin, ['LOAD'], ['load'], 'load'), on='Benchmark')\n",
    "    \n",
    "    df = pd.merge(df, visible(llvm, pin, ['BR'], ['br'], 'br'), on='Benchmark')\n",
    "    \n",
    "    df = pd.merge(df, visible(llvm, pin, ['ADD', 'SUB'], ['add', 'sub'], 'addsub'), on='Benchmark')    \n",
    "    df = pd.merge(df, visible(llvm, pin, ['MUL'], ['mul'], 'mul'), on='Benchmark')    \n",
    "#     df = pd.merge(df, visible(llvm, pin, ['UDIV', 'SDIV', 'UDIV', 'SDIV', 'SHL', 'ASHR', 'LSHR'], ['div', 'shl', 'ashr', 'lshr'], 'div'), on='Benchmark')    \n",
    "    \n",
    "#     df = pd.merge(df, visible(llvm, pin, ['XOR'], ['xor'], 'xor'), on='Benchmark')    \n",
    "#     df = pd.merge(df, visible(llvm, pin, ['AND'], ['and'], 'and'), on='Benchmark')    \n",
    "#     df = pd.merge(df, visible(llvm, pin, ['OR'], ['or'], 'or'), on='Benchmark')    \n",
    "    \n",
    "#     df = pd.merge(df, visible(llvm, pin, ['FADD'], ['fadd'], 'fadd'), on='Benchmark')    \n",
    "#     df = pd.merge(df, visible(llvm, pin, ['FSUB'], ['fsub'], 'fsub'), on='Benchmark')    \n",
    "#     df = pd.merge(df, visible(llvm, pin, ['FMUL'], ['fmul'], 'fmul'), on='Benchmark')    \n",
    "#     df = pd.merge(df, visible(llvm, pin, ['FDIV'], ['fdiv'], 'fdiv'), on='Benchmark')    \n",
    "    \n",
    "    df = pd.merge(df, visible(llvm, pin, ['CMP'], ['cmp'], 'cmp'), on='Benchmark')    \n",
    "#     df = pd.merge(df, visible(llvm, pin, ['FCMP'], ['fcmp'], 'fcmp'), on='Benchmark')    \n",
    "    return df"
   ]
  },
  {
   "cell_type": "code",
   "execution_count": 36,
   "metadata": {},
   "outputs": [],
   "source": [
    "def split_columns(df):\n",
    "    df['tipo'], df['lang'] = df.variable.str.split('_', 1).str\n",
    "    return df\n",
    "\n",
    "df_c = build_table(llvm_c, pin_c).rename(columns = lambda x: x.replace('_visible', '_c')).melt(id_vars='Benchmark').pipe(split_columns)\n",
    "df_cpp = build_table(llvm_cpp, pin_cpp).rename(columns = lambda x: x.replace('_visible', '_cpp')).melt(id_vars='Benchmark').pipe(split_columns)\n",
    "df_d = build_table(llvm_d, pin_d).rename(columns = lambda x: x.replace('_visible', '_d')).melt(id_vars='Benchmark').pipe(split_columns)"
   ]
  },
  {
   "cell_type": "code",
   "execution_count": 37,
   "metadata": {},
   "outputs": [],
   "source": [
    "df = pd.concat([df_c, df_cpp, df_d])"
   ]
  },
  {
   "cell_type": "code",
   "execution_count": 38,
   "metadata": {},
   "outputs": [],
   "source": [
    "df.to_csv('langs.csv', index=False)"
   ]
  },
  {
   "cell_type": "code",
   "execution_count": 39,
   "metadata": {},
   "outputs": [
    {
     "name": "stderr",
     "output_type": "stream",
     "text": [
      "/home/guilhermel/.local/lib/python3.5/site-packages/plotnine/layer.py:363: UserWarning: stat_ecdf : Removed 9 rows containing non-finite values.\n",
      "  data = self.stat.compute_layer(data, params, layout)\n"
     ]
    },
    {
     "data": {
      "image/png": "[encoded data removed]",
      "text/plain": [
       "<Figure size 640x480 with 6 Axes>"
      ]
     },
     "metadata": {},
     "output_type": "display_data"
    },
    {
     "data": {
      "text/plain": [
       "<ggplot: (-9223363260173699633)>"
      ]
     },
     "execution_count": 39,
     "metadata": {},
     "output_type": "execute_result"
    }
   ],
   "source": [
    "(ggplot(df) \n",
    " + stat_ecdf(aes(x='value', colour='lang'))\n",
    " + facet_wrap('tipo') + xlim(-0.1, 1.1)\n",
    ")"
   ]
  },
  {
   "cell_type": "code",
   "execution_count": null,
   "metadata": {},
   "outputs": [],
   "source": []
  },
  {
   "cell_type": "code",
   "execution_count": null,
   "metadata": {},
   "outputs": [],
   "source": []
  }
 ],
 "metadata": {
  "kernelspec": {
   "display_name": "Python 3",
   "language": "python",
   "name": "python3"
  },
  "language_info": {
   "codemirror_mode": {
    "name": "ipython",
    "version": 3
   },
   "file_extension": ".py",
   "mimetype": "text/x-python",
   "name": "python",
   "nbconvert_exporter": "python",
   "pygments_lexer": "ipython3",
   "version": "3.5.2"
  }
 },
 "nbformat": 4,
 "nbformat_minor": 2
}
