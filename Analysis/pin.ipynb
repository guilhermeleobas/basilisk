{
 "cells": [
  {
   "cell_type": "code",
   "execution_count": 370,
   "metadata": {},
   "outputs": [],
   "source": [
    "import pandas as pd\n",
    "import numpy as np\n",
    "import re\n",
    "import sys"
   ]
  },
  {
   "cell_type": "code",
   "execution_count": 372,
   "metadata": {},
   "outputs": [
    {
     "name": "stdout",
     "output_type": "stream",
     "text": [
      "/home/guilhermel/Programs/tf_basilisk/Benchs/Stanford/Quicksort/loads.csv\n",
      "/home/guilhermel/Programs/tf_basilisk/Benchs/Stanford/FloatMM/loads.csv\n",
      "/home/guilhermel/Programs/tf_basilisk/Benchs/Stanford/Oscar/loads.csv\n",
      "/home/guilhermel/Programs/tf_basilisk/Benchs/Stanford/RealMM/loads.csv\n",
      "/home/guilhermel/Programs/tf_basilisk/Benchs/Stanford/Towers/loads.csv\n",
      "/home/guilhermel/Programs/tf_basilisk/Benchs/Stanford/Treesort/loads.csv\n",
      "/home/guilhermel/Programs/tf_basilisk/Benchs/Stanford/Puzzle/loads.csv\n",
      "/home/guilhermel/Programs/tf_basilisk/Benchs/Stanford/Bubblesort/loads.csv\n",
      "/home/guilhermel/Programs/tf_basilisk/Benchs/Stanford/IntMM/loads.csv\n",
      "/home/guilhermel/Programs/tf_basilisk/Benchs/Stanford/Queens/loads.csv\n"
     ]
    }
   ],
   "source": [
    "%%bash\n",
    "\n",
    "find $HOME/Programs/tf_basilisk/Benchs/Stanford -name 'loads.csv' > /tmp/csvs.txt\n",
    "cat /tmp/csvs.txt\n",
    "# cat /home/guilhermel/Programs/tf_basilisk/Benchs/Misc/richards_benchmark/count.csv\n"
   ]
  },
  {
   "cell_type": "code",
   "execution_count": 373,
   "metadata": {},
   "outputs": [],
   "source": [
    "dfs = []\n",
    "with open('/tmp/csvs.txt') as f:\n",
    "    for line in f:\n",
    "        df_aux = pd.read_csv(line.strip())\n",
    "        line_aux = re.sub('\\/(?!.*\\/).*.csv', '', re.sub('.*\\/Benchs\\/', '', line.strip()))\n",
    "        df_aux['benchmark'] = line_aux\n",
    "        dfs.append(df_aux.set_index('benchmark'))"
   ]
  },
  {
   "cell_type": "code",
   "execution_count": 374,
   "metadata": {},
   "outputs": [],
   "source": [
    "df = pd.concat(dfs)"
   ]
  },
  {
   "cell_type": "code",
   "execution_count": 375,
   "metadata": {},
   "outputs": [
    {
     "data": {
      "text/plain": [
       "Index(['load_before_ADD', 'load_before_AND', 'load_before_CALL_NEAR',\n",
       "       'load_before_CMP', 'load_before_CMPXCHG', 'load_before_DEC',\n",
       "       'load_before_JMP', 'load_before_MOV', 'load_before_MOVDQA',\n",
       "       'load_before_MOVDQU', 'load_before_MOVHPD', 'load_before_MOVLPD',\n",
       "       'load_before_MOVSX', 'load_before_MOVSXD', 'load_before_MOVZX',\n",
       "       'load_before_OR', 'load_before_PCMPEQB', 'load_before_PMINUB',\n",
       "       'load_before_POP', 'load_before_PUSH', 'load_before_RET_NEAR',\n",
       "       'load_before_SUB', 'load_before_TEST', 'load_before_VMOVDQA',\n",
       "       'load_before_XOR', 'load_end_ADD', 'load_end_CALL_NEAR', 'load_end_CMP',\n",
       "       'load_end_CMPXCHG', 'load_end_DEC', 'load_end_JMP', 'load_end_LEAVE',\n",
       "       'load_end_MOV', 'load_end_MOVZX', 'load_end_POP', 'load_end_RET_NEAR',\n",
       "       'load_end_SUB', 'load_end_TEST', 'load_end_XOR', 'load_main_ADC',\n",
       "       'load_main_ADD', 'load_main_ADDSD', 'load_main_ADDSS', 'load_main_AND',\n",
       "       'load_main_BSR', 'load_main_CALL_NEAR', 'load_main_CMOVLE',\n",
       "       'load_main_CMP', 'load_main_CMPXCHG', 'load_main_DEC',\n",
       "       'load_main_DIVSD', 'load_main_DIVSS', 'load_main_IMUL', 'load_main_INC',\n",
       "       'load_main_JMP', 'load_main_MOV', 'load_main_MOVAPS',\n",
       "       'load_main_MOVDQA', 'load_main_MOVDQU', 'load_main_MOVHPD',\n",
       "       'load_main_MOVLPD', 'load_main_MOVSD_XMM', 'load_main_MOVSS',\n",
       "       'load_main_MOVSX', 'load_main_MOVSXD', 'load_main_MOVZX',\n",
       "       'load_main_MULSD', 'load_main_MULSS', 'load_main_OR', 'load_main_POP',\n",
       "       'load_main_PUSH', 'load_main_RET_NEAR', 'load_main_SUB',\n",
       "       'load_main_SUBSS', 'load_main_TEST', 'load_main_TZCNT',\n",
       "       'load_main_UCOMISD', 'load_main_VMOVDQA'],\n",
       "      dtype='object')"
      ]
     },
     "execution_count": 375,
     "metadata": {},
     "output_type": "execute_result"
    }
   ],
   "source": [
    "df.columns"
   ]
  },
  {
   "cell_type": "code",
   "execution_count": null,
   "metadata": {},
   "outputs": [],
   "source": []
  },
  {
   "cell_type": "code",
   "execution_count": 376,
   "metadata": {},
   "outputs": [],
   "source": [
    "sel = list(filter(lambda x : 'before' in x, df.columns))\n",
    "df['before'] = df[sel].sum(axis=1)"
   ]
  },
  {
   "cell_type": "code",
   "execution_count": 377,
   "metadata": {},
   "outputs": [],
   "source": [
    "sel = list(filter(lambda x : 'main' in x, df.columns))\n",
    "df['main'] = df[sel].sum(axis=1)"
   ]
  },
  {
   "cell_type": "code",
   "execution_count": 378,
   "metadata": {},
   "outputs": [],
   "source": [
    "sel = list(filter(lambda x : 'end' in x, df.columns))\n",
    "df['end'] = df[sel].sum(axis=1)"
   ]
  },
  {
   "cell_type": "code",
   "execution_count": 379,
   "metadata": {
    "scrolled": true
   },
   "outputs": [
    {
     "data": {
      "text/html": [
       "<div>\n",
       "<style scoped>\n",
       "    .dataframe tbody tr th:only-of-type {\n",
       "        vertical-align: middle;\n",
       "    }\n",
       "\n",
       "    .dataframe tbody tr th {\n",
       "        vertical-align: top;\n",
       "    }\n",
       "\n",
       "    .dataframe thead th {\n",
       "        text-align: right;\n",
       "    }\n",
       "</style>\n",
       "<table border=\"1\" class=\"dataframe\">\n",
       "  <thead>\n",
       "    <tr style=\"text-align: right;\">\n",
       "      <th></th>\n",
       "      <th>before</th>\n",
       "      <th>main</th>\n",
       "      <th>end</th>\n",
       "    </tr>\n",
       "    <tr>\n",
       "      <th>benchmark</th>\n",
       "      <th></th>\n",
       "      <th></th>\n",
       "      <th></th>\n",
       "    </tr>\n",
       "  </thead>\n",
       "  <tbody>\n",
       "    <tr>\n",
       "      <th>Stanford/Quicksort</th>\n",
       "      <td>27359</td>\n",
       "      <td>17679685</td>\n",
       "      <td>338</td>\n",
       "    </tr>\n",
       "    <tr>\n",
       "      <th>Stanford/FloatMM</th>\n",
       "      <td>27363</td>\n",
       "      <td>1056144187</td>\n",
       "      <td>338</td>\n",
       "    </tr>\n",
       "    <tr>\n",
       "      <th>Stanford/Oscar</th>\n",
       "      <td>27367</td>\n",
       "      <td>4058303</td>\n",
       "      <td>338</td>\n",
       "    </tr>\n",
       "    <tr>\n",
       "      <th>Stanford/RealMM</th>\n",
       "      <td>27368</td>\n",
       "      <td>2132898</td>\n",
       "      <td>338</td>\n",
       "    </tr>\n",
       "    <tr>\n",
       "      <th>Stanford/Towers</th>\n",
       "      <td>27368</td>\n",
       "      <td>47506591</td>\n",
       "      <td>338</td>\n",
       "    </tr>\n",
       "    <tr>\n",
       "      <th>Stanford/Treesort</th>\n",
       "      <td>27357</td>\n",
       "      <td>67144641</td>\n",
       "      <td>338</td>\n",
       "    </tr>\n",
       "    <tr>\n",
       "      <th>Stanford/Puzzle</th>\n",
       "      <td>27368</td>\n",
       "      <td>171216189</td>\n",
       "      <td>338</td>\n",
       "    </tr>\n",
       "    <tr>\n",
       "      <th>Stanford/Bubblesort</th>\n",
       "      <td>27363</td>\n",
       "      <td>50797385</td>\n",
       "      <td>338</td>\n",
       "    </tr>\n",
       "    <tr>\n",
       "      <th>Stanford/IntMM</th>\n",
       "      <td>27367</td>\n",
       "      <td>2096195</td>\n",
       "      <td>338</td>\n",
       "    </tr>\n",
       "    <tr>\n",
       "      <th>Stanford/Queens</th>\n",
       "      <td>27368</td>\n",
       "      <td>22923681</td>\n",
       "      <td>338</td>\n",
       "    </tr>\n",
       "  </tbody>\n",
       "</table>\n",
       "</div>"
      ],
      "text/plain": [
       "                     before       main  end\n",
       "benchmark                                  \n",
       "Stanford/Quicksort    27359   17679685  338\n",
       "Stanford/FloatMM      27363 1056144187  338\n",
       "Stanford/Oscar        27367    4058303  338\n",
       "Stanford/RealMM       27368    2132898  338\n",
       "Stanford/Towers       27368   47506591  338\n",
       "Stanford/Treesort     27357   67144641  338\n",
       "Stanford/Puzzle       27368  171216189  338\n",
       "Stanford/Bubblesort   27363   50797385  338\n",
       "Stanford/IntMM        27367    2096195  338\n",
       "Stanford/Queens       27368   22923681  338"
      ]
     },
     "execution_count": 379,
     "metadata": {},
     "output_type": "execute_result"
    }
   ],
   "source": [
    "df[['before', 'main', 'end']]"
   ]
  },
  {
   "cell_type": "code",
   "execution_count": null,
   "metadata": {},
   "outputs": [],
   "source": []
  },
  {
   "cell_type": "code",
   "execution_count": 381,
   "metadata": {
    "scrolled": true
   },
   "outputs": [],
   "source": [
    "df.sort_index(inplace=True)"
   ]
  },
  {
   "cell_type": "code",
   "execution_count": 382,
   "metadata": {},
   "outputs": [],
   "source": [
    "df.reset_index(inplace=True)"
   ]
  },
  {
   "cell_type": "code",
   "execution_count": 383,
   "metadata": {},
   "outputs": [],
   "source": [
    "df['group'] = df['benchmark'].map(lambda x: x.split('/')[0])"
   ]
  },
  {
   "cell_type": "code",
   "execution_count": 384,
   "metadata": {},
   "outputs": [],
   "source": [
    "pd.set_option('display.float_format', lambda x: '%.f' % x)"
   ]
  },
  {
   "cell_type": "code",
   "execution_count": 385,
   "metadata": {},
   "outputs": [
    {
     "data": {
      "text/html": [
       "<div>\n",
       "<style scoped>\n",
       "    .dataframe tbody tr th:only-of-type {\n",
       "        vertical-align: middle;\n",
       "    }\n",
       "\n",
       "    .dataframe tbody tr th {\n",
       "        vertical-align: top;\n",
       "    }\n",
       "\n",
       "    .dataframe thead th {\n",
       "        text-align: right;\n",
       "    }\n",
       "</style>\n",
       "<table border=\"1\" class=\"dataframe\">\n",
       "  <thead>\n",
       "    <tr style=\"text-align: right;\">\n",
       "      <th></th>\n",
       "      <th>before</th>\n",
       "      <th>main</th>\n",
       "      <th>end</th>\n",
       "    </tr>\n",
       "  </thead>\n",
       "  <tbody>\n",
       "    <tr>\n",
       "      <th>0</th>\n",
       "      <td>27363</td>\n",
       "      <td>50797385</td>\n",
       "      <td>338</td>\n",
       "    </tr>\n",
       "    <tr>\n",
       "      <th>1</th>\n",
       "      <td>27363</td>\n",
       "      <td>1056144187</td>\n",
       "      <td>338</td>\n",
       "    </tr>\n",
       "    <tr>\n",
       "      <th>2</th>\n",
       "      <td>27367</td>\n",
       "      <td>2096195</td>\n",
       "      <td>338</td>\n",
       "    </tr>\n",
       "    <tr>\n",
       "      <th>3</th>\n",
       "      <td>27367</td>\n",
       "      <td>4058303</td>\n",
       "      <td>338</td>\n",
       "    </tr>\n",
       "    <tr>\n",
       "      <th>4</th>\n",
       "      <td>27368</td>\n",
       "      <td>171216189</td>\n",
       "      <td>338</td>\n",
       "    </tr>\n",
       "    <tr>\n",
       "      <th>5</th>\n",
       "      <td>27368</td>\n",
       "      <td>22923681</td>\n",
       "      <td>338</td>\n",
       "    </tr>\n",
       "    <tr>\n",
       "      <th>6</th>\n",
       "      <td>27359</td>\n",
       "      <td>17679685</td>\n",
       "      <td>338</td>\n",
       "    </tr>\n",
       "    <tr>\n",
       "      <th>7</th>\n",
       "      <td>27368</td>\n",
       "      <td>2132898</td>\n",
       "      <td>338</td>\n",
       "    </tr>\n",
       "    <tr>\n",
       "      <th>8</th>\n",
       "      <td>27368</td>\n",
       "      <td>47506591</td>\n",
       "      <td>338</td>\n",
       "    </tr>\n",
       "    <tr>\n",
       "      <th>9</th>\n",
       "      <td>27357</td>\n",
       "      <td>67144641</td>\n",
       "      <td>338</td>\n",
       "    </tr>\n",
       "  </tbody>\n",
       "</table>\n",
       "</div>"
      ],
      "text/plain": [
       "   before       main  end\n",
       "0   27363   50797385  338\n",
       "1   27363 1056144187  338\n",
       "2   27367    2096195  338\n",
       "3   27367    4058303  338\n",
       "4   27368  171216189  338\n",
       "5   27368   22923681  338\n",
       "6   27359   17679685  338\n",
       "7   27368    2132898  338\n",
       "8   27368   47506591  338\n",
       "9   27357   67144641  338"
      ]
     },
     "execution_count": 385,
     "metadata": {},
     "output_type": "execute_result"
    }
   ],
   "source": [
    "df[['before', 'main', 'end']].to_csv()"
   ]
  },
  {
   "cell_type": "code",
   "execution_count": 246,
   "metadata": {},
   "outputs": [
    {
     "ename": "KeyError",
     "evalue": "\"['before' 'main' 'end'] not in index\"",
     "output_type": "error",
     "traceback": [
      "\u001b[0;31m---------------------------------------------------------------------------\u001b[0m",
      "\u001b[0;31mKeyError\u001b[0m                                  Traceback (most recent call last)",
      "\u001b[0;32m<ipython-input-246-92e51af94519>\u001b[0m in \u001b[0;36m<module>\u001b[0;34m()\u001b[0m\n\u001b[0;32m----> 1\u001b[0;31m \u001b[0mdf\u001b[0m\u001b[0;34m[\u001b[0m\u001b[0;34m[\u001b[0m\u001b[0;34m'group'\u001b[0m\u001b[0;34m,\u001b[0m \u001b[0;34m'benchmark'\u001b[0m\u001b[0;34m,\u001b[0m \u001b[0;34m'before'\u001b[0m\u001b[0;34m,\u001b[0m \u001b[0;34m'main'\u001b[0m\u001b[0;34m,\u001b[0m \u001b[0;34m'end'\u001b[0m\u001b[0;34m]\u001b[0m\u001b[0;34m]\u001b[0m\u001b[0;34m.\u001b[0m\u001b[0mto_csv\u001b[0m\u001b[0;34m(\u001b[0m\u001b[0msys\u001b[0m\u001b[0;34m.\u001b[0m\u001b[0mstdout\u001b[0m\u001b[0;34m,\u001b[0m \u001b[0mna_rep\u001b[0m\u001b[0;34m=\u001b[0m\u001b[0;34m'0'\u001b[0m\u001b[0;34m,\u001b[0m \u001b[0mindex\u001b[0m\u001b[0;34m=\u001b[0m\u001b[0;32mFalse\u001b[0m\u001b[0;34m,\u001b[0m \u001b[0mfloat_format\u001b[0m\u001b[0;34m=\u001b[0m\u001b[0;34m'%.f'\u001b[0m\u001b[0;34m)\u001b[0m\u001b[0;34m\u001b[0m\u001b[0m\n\u001b[0m",
      "\u001b[0;32m~/.local/lib/python3.4/site-packages/pandas/core/frame.py\u001b[0m in \u001b[0;36m__getitem__\u001b[0;34m(self, key)\u001b[0m\n\u001b[1;32m   2131\u001b[0m         \u001b[0;32mif\u001b[0m \u001b[0misinstance\u001b[0m\u001b[0;34m(\u001b[0m\u001b[0mkey\u001b[0m\u001b[0;34m,\u001b[0m \u001b[0;34m(\u001b[0m\u001b[0mSeries\u001b[0m\u001b[0;34m,\u001b[0m \u001b[0mnp\u001b[0m\u001b[0;34m.\u001b[0m\u001b[0mndarray\u001b[0m\u001b[0;34m,\u001b[0m \u001b[0mIndex\u001b[0m\u001b[0;34m,\u001b[0m \u001b[0mlist\u001b[0m\u001b[0;34m)\u001b[0m\u001b[0;34m)\u001b[0m\u001b[0;34m:\u001b[0m\u001b[0;34m\u001b[0m\u001b[0m\n\u001b[1;32m   2132\u001b[0m             \u001b[0;31m# either boolean or fancy integer index\u001b[0m\u001b[0;34m\u001b[0m\u001b[0;34m\u001b[0m\u001b[0m\n\u001b[0;32m-> 2133\u001b[0;31m             \u001b[0;32mreturn\u001b[0m \u001b[0mself\u001b[0m\u001b[0;34m.\u001b[0m\u001b[0m_getitem_array\u001b[0m\u001b[0;34m(\u001b[0m\u001b[0mkey\u001b[0m\u001b[0;34m)\u001b[0m\u001b[0;34m\u001b[0m\u001b[0m\n\u001b[0m\u001b[1;32m   2134\u001b[0m         \u001b[0;32melif\u001b[0m \u001b[0misinstance\u001b[0m\u001b[0;34m(\u001b[0m\u001b[0mkey\u001b[0m\u001b[0;34m,\u001b[0m \u001b[0mDataFrame\u001b[0m\u001b[0;34m)\u001b[0m\u001b[0;34m:\u001b[0m\u001b[0;34m\u001b[0m\u001b[0m\n\u001b[1;32m   2135\u001b[0m             \u001b[0;32mreturn\u001b[0m \u001b[0mself\u001b[0m\u001b[0;34m.\u001b[0m\u001b[0m_getitem_frame\u001b[0m\u001b[0;34m(\u001b[0m\u001b[0mkey\u001b[0m\u001b[0;34m)\u001b[0m\u001b[0;34m\u001b[0m\u001b[0m\n",
      "\u001b[0;32m~/.local/lib/python3.4/site-packages/pandas/core/frame.py\u001b[0m in \u001b[0;36m_getitem_array\u001b[0;34m(self, key)\u001b[0m\n\u001b[1;32m   2175\u001b[0m             \u001b[0;32mreturn\u001b[0m \u001b[0mself\u001b[0m\u001b[0;34m.\u001b[0m\u001b[0m_take\u001b[0m\u001b[0;34m(\u001b[0m\u001b[0mindexer\u001b[0m\u001b[0;34m,\u001b[0m \u001b[0maxis\u001b[0m\u001b[0;34m=\u001b[0m\u001b[0;36m0\u001b[0m\u001b[0;34m,\u001b[0m \u001b[0mconvert\u001b[0m\u001b[0;34m=\u001b[0m\u001b[0;32mFalse\u001b[0m\u001b[0;34m)\u001b[0m\u001b[0;34m\u001b[0m\u001b[0m\n\u001b[1;32m   2176\u001b[0m         \u001b[0;32melse\u001b[0m\u001b[0;34m:\u001b[0m\u001b[0;34m\u001b[0m\u001b[0m\n\u001b[0;32m-> 2177\u001b[0;31m             \u001b[0mindexer\u001b[0m \u001b[0;34m=\u001b[0m \u001b[0mself\u001b[0m\u001b[0;34m.\u001b[0m\u001b[0mloc\u001b[0m\u001b[0;34m.\u001b[0m\u001b[0m_convert_to_indexer\u001b[0m\u001b[0;34m(\u001b[0m\u001b[0mkey\u001b[0m\u001b[0;34m,\u001b[0m \u001b[0maxis\u001b[0m\u001b[0;34m=\u001b[0m\u001b[0;36m1\u001b[0m\u001b[0;34m)\u001b[0m\u001b[0;34m\u001b[0m\u001b[0m\n\u001b[0m\u001b[1;32m   2178\u001b[0m             \u001b[0;32mreturn\u001b[0m \u001b[0mself\u001b[0m\u001b[0;34m.\u001b[0m\u001b[0m_take\u001b[0m\u001b[0;34m(\u001b[0m\u001b[0mindexer\u001b[0m\u001b[0;34m,\u001b[0m \u001b[0maxis\u001b[0m\u001b[0;34m=\u001b[0m\u001b[0;36m1\u001b[0m\u001b[0;34m,\u001b[0m \u001b[0mconvert\u001b[0m\u001b[0;34m=\u001b[0m\u001b[0;32mTrue\u001b[0m\u001b[0;34m)\u001b[0m\u001b[0;34m\u001b[0m\u001b[0m\n\u001b[1;32m   2179\u001b[0m \u001b[0;34m\u001b[0m\u001b[0m\n",
      "\u001b[0;32m~/.local/lib/python3.4/site-packages/pandas/core/indexing.py\u001b[0m in \u001b[0;36m_convert_to_indexer\u001b[0;34m(self, obj, axis, is_setter)\u001b[0m\n\u001b[1;32m   1267\u001b[0m                 \u001b[0;32mif\u001b[0m \u001b[0mmask\u001b[0m\u001b[0;34m.\u001b[0m\u001b[0many\u001b[0m\u001b[0;34m(\u001b[0m\u001b[0;34m)\u001b[0m\u001b[0;34m:\u001b[0m\u001b[0;34m\u001b[0m\u001b[0m\n\u001b[1;32m   1268\u001b[0m                     raise KeyError('{mask} not in index'\n\u001b[0;32m-> 1269\u001b[0;31m                                    .format(mask=objarr[mask]))\n\u001b[0m\u001b[1;32m   1270\u001b[0m \u001b[0;34m\u001b[0m\u001b[0m\n\u001b[1;32m   1271\u001b[0m                 \u001b[0;32mreturn\u001b[0m \u001b[0m_values_from_object\u001b[0m\u001b[0;34m(\u001b[0m\u001b[0mindexer\u001b[0m\u001b[0;34m)\u001b[0m\u001b[0;34m\u001b[0m\u001b[0m\n",
      "\u001b[0;31mKeyError\u001b[0m: \"['before' 'main' 'end'] not in index\""
     ]
    }
   ],
   "source": [
    "df[['group', 'benchmark', 'before', 'main', 'end']].to_csv(sys.stdout, na_rep='0', index=False, float_format='%.f')"
   ]
  },
  {
   "cell_type": "code",
   "execution_count": 331,
   "metadata": {},
   "outputs": [
    {
     "ename": "KeyError",
     "evalue": "\"['STORE' 'LOAD' 'CMP' 'ADD' 'SUB' 'MUL' 'UDIV' 'SDIV' 'UREM' 'SREM' 'FADD'\\n 'FSUB' 'FMUL' 'FDIV' 'FCMP' 'AND' 'OR' 'XOR' 'BR'] not in index\"",
     "output_type": "error",
     "traceback": [
      "\u001b[0;31m---------------------------------------------------------------------------\u001b[0m",
      "\u001b[0;31mKeyError\u001b[0m                                  Traceback (most recent call last)",
      "\u001b[0;32m<ipython-input-331-451d3d3c9931>\u001b[0m in \u001b[0;36m<module>\u001b[0;34m()\u001b[0m\n\u001b[1;32m      1\u001b[0m df[[\"group\", \"benchmark\", \"STORE\",\"LOAD\",\"CMP\",\"ADD\",\"SUB\",\n\u001b[1;32m      2\u001b[0m     \u001b[0;34m\"MUL\"\u001b[0m\u001b[0;34m,\u001b[0m\u001b[0;34m\"UDIV\"\u001b[0m\u001b[0;34m,\u001b[0m\u001b[0;34m\"SDIV\"\u001b[0m\u001b[0;34m,\u001b[0m\u001b[0;34m\"UREM\"\u001b[0m\u001b[0;34m,\u001b[0m\u001b[0;34m\"SREM\"\u001b[0m\u001b[0;34m,\u001b[0m\u001b[0;34m\"FADD\"\u001b[0m\u001b[0;34m,\u001b[0m\u001b[0;34m\"FSUB\"\u001b[0m\u001b[0;34m,\u001b[0m\u001b[0;34m\"FMUL\"\u001b[0m\u001b[0;34m,\u001b[0m\u001b[0;34m\u001b[0m\u001b[0m\n\u001b[0;32m----> 3\u001b[0;31m     \"FDIV\",\"FCMP\",\"AND\",\"OR\",\"XOR\",\"BR\"]].to_csv(sys.stdout, na_rep='0', index=False, float_format='%.f')\n\u001b[0m",
      "\u001b[0;32m~/.local/lib/python3.4/site-packages/pandas/core/frame.py\u001b[0m in \u001b[0;36m__getitem__\u001b[0;34m(self, key)\u001b[0m\n\u001b[1;32m   2131\u001b[0m         \u001b[0;32mif\u001b[0m \u001b[0misinstance\u001b[0m\u001b[0;34m(\u001b[0m\u001b[0mkey\u001b[0m\u001b[0;34m,\u001b[0m \u001b[0;34m(\u001b[0m\u001b[0mSeries\u001b[0m\u001b[0;34m,\u001b[0m \u001b[0mnp\u001b[0m\u001b[0;34m.\u001b[0m\u001b[0mndarray\u001b[0m\u001b[0;34m,\u001b[0m \u001b[0mIndex\u001b[0m\u001b[0;34m,\u001b[0m \u001b[0mlist\u001b[0m\u001b[0;34m)\u001b[0m\u001b[0;34m)\u001b[0m\u001b[0;34m:\u001b[0m\u001b[0;34m\u001b[0m\u001b[0m\n\u001b[1;32m   2132\u001b[0m             \u001b[0;31m# either boolean or fancy integer index\u001b[0m\u001b[0;34m\u001b[0m\u001b[0;34m\u001b[0m\u001b[0m\n\u001b[0;32m-> 2133\u001b[0;31m             \u001b[0;32mreturn\u001b[0m \u001b[0mself\u001b[0m\u001b[0;34m.\u001b[0m\u001b[0m_getitem_array\u001b[0m\u001b[0;34m(\u001b[0m\u001b[0mkey\u001b[0m\u001b[0;34m)\u001b[0m\u001b[0;34m\u001b[0m\u001b[0m\n\u001b[0m\u001b[1;32m   2134\u001b[0m         \u001b[0;32melif\u001b[0m \u001b[0misinstance\u001b[0m\u001b[0;34m(\u001b[0m\u001b[0mkey\u001b[0m\u001b[0;34m,\u001b[0m \u001b[0mDataFrame\u001b[0m\u001b[0;34m)\u001b[0m\u001b[0;34m:\u001b[0m\u001b[0;34m\u001b[0m\u001b[0m\n\u001b[1;32m   2135\u001b[0m             \u001b[0;32mreturn\u001b[0m \u001b[0mself\u001b[0m\u001b[0;34m.\u001b[0m\u001b[0m_getitem_frame\u001b[0m\u001b[0;34m(\u001b[0m\u001b[0mkey\u001b[0m\u001b[0;34m)\u001b[0m\u001b[0;34m\u001b[0m\u001b[0m\n",
      "\u001b[0;32m~/.local/lib/python3.4/site-packages/pandas/core/frame.py\u001b[0m in \u001b[0;36m_getitem_array\u001b[0;34m(self, key)\u001b[0m\n\u001b[1;32m   2175\u001b[0m             \u001b[0;32mreturn\u001b[0m \u001b[0mself\u001b[0m\u001b[0;34m.\u001b[0m\u001b[0m_take\u001b[0m\u001b[0;34m(\u001b[0m\u001b[0mindexer\u001b[0m\u001b[0;34m,\u001b[0m \u001b[0maxis\u001b[0m\u001b[0;34m=\u001b[0m\u001b[0;36m0\u001b[0m\u001b[0;34m,\u001b[0m \u001b[0mconvert\u001b[0m\u001b[0;34m=\u001b[0m\u001b[0;32mFalse\u001b[0m\u001b[0;34m)\u001b[0m\u001b[0;34m\u001b[0m\u001b[0m\n\u001b[1;32m   2176\u001b[0m         \u001b[0;32melse\u001b[0m\u001b[0;34m:\u001b[0m\u001b[0;34m\u001b[0m\u001b[0m\n\u001b[0;32m-> 2177\u001b[0;31m             \u001b[0mindexer\u001b[0m \u001b[0;34m=\u001b[0m \u001b[0mself\u001b[0m\u001b[0;34m.\u001b[0m\u001b[0mloc\u001b[0m\u001b[0;34m.\u001b[0m\u001b[0m_convert_to_indexer\u001b[0m\u001b[0;34m(\u001b[0m\u001b[0mkey\u001b[0m\u001b[0;34m,\u001b[0m \u001b[0maxis\u001b[0m\u001b[0;34m=\u001b[0m\u001b[0;36m1\u001b[0m\u001b[0;34m)\u001b[0m\u001b[0;34m\u001b[0m\u001b[0m\n\u001b[0m\u001b[1;32m   2178\u001b[0m             \u001b[0;32mreturn\u001b[0m \u001b[0mself\u001b[0m\u001b[0;34m.\u001b[0m\u001b[0m_take\u001b[0m\u001b[0;34m(\u001b[0m\u001b[0mindexer\u001b[0m\u001b[0;34m,\u001b[0m \u001b[0maxis\u001b[0m\u001b[0;34m=\u001b[0m\u001b[0;36m1\u001b[0m\u001b[0;34m,\u001b[0m \u001b[0mconvert\u001b[0m\u001b[0;34m=\u001b[0m\u001b[0;32mTrue\u001b[0m\u001b[0;34m)\u001b[0m\u001b[0;34m\u001b[0m\u001b[0m\n\u001b[1;32m   2179\u001b[0m \u001b[0;34m\u001b[0m\u001b[0m\n",
      "\u001b[0;32m~/.local/lib/python3.4/site-packages/pandas/core/indexing.py\u001b[0m in \u001b[0;36m_convert_to_indexer\u001b[0;34m(self, obj, axis, is_setter)\u001b[0m\n\u001b[1;32m   1267\u001b[0m                 \u001b[0;32mif\u001b[0m \u001b[0mmask\u001b[0m\u001b[0;34m.\u001b[0m\u001b[0many\u001b[0m\u001b[0;34m(\u001b[0m\u001b[0;34m)\u001b[0m\u001b[0;34m:\u001b[0m\u001b[0;34m\u001b[0m\u001b[0m\n\u001b[1;32m   1268\u001b[0m                     raise KeyError('{mask} not in index'\n\u001b[0;32m-> 1269\u001b[0;31m                                    .format(mask=objarr[mask]))\n\u001b[0m\u001b[1;32m   1270\u001b[0m \u001b[0;34m\u001b[0m\u001b[0m\n\u001b[1;32m   1271\u001b[0m                 \u001b[0;32mreturn\u001b[0m \u001b[0m_values_from_object\u001b[0m\u001b[0;34m(\u001b[0m\u001b[0mindexer\u001b[0m\u001b[0;34m)\u001b[0m\u001b[0;34m\u001b[0m\u001b[0m\n",
      "\u001b[0;31mKeyError\u001b[0m: \"['STORE' 'LOAD' 'CMP' 'ADD' 'SUB' 'MUL' 'UDIV' 'SDIV' 'UREM' 'SREM' 'FADD'\\n 'FSUB' 'FMUL' 'FDIV' 'FCMP' 'AND' 'OR' 'XOR' 'BR'] not in index\""
     ]
    }
   ],
   "source": [
    "df[[\"group\", \"benchmark\", \"STORE\",\"LOAD\",\"CMP\",\"ADD\",\"SUB\",\n",
    "    \"MUL\",\"UDIV\",\"SDIV\",\"UREM\",\"SREM\",\"FADD\",\"FSUB\",\"FMUL\",\n",
    "    \"FDIV\",\"FCMP\",\"AND\",\"OR\",\"XOR\",\"BR\"]].to_csv(sys.stdout, na_rep='0', index=False, float_format='%.f')"
   ]
  },
  {
   "cell_type": "code",
   "execution_count": 342,
   "metadata": {},
   "outputs": [
    {
     "name": "stdout",
     "output_type": "stream",
     "text": [
      "benchmark,ADD_before_,ADD_end_,ADD_main_,DIV_before_,DIV_end_,DIV_main_,FADD_main_,FDIV_main_,FMUL_main_,FSUB_main_,MUL_before_,MUL_end_,MUL_main_,SUB_before_,SUB_end_,SUB_main_,group\n",
      "ASCI_Purple,10822,43,91789619,93,0,352209,4381012,3052896,24173085,18940746,24,0,3328651,1933,40,5953715,ASCI_Purple\n",
      "ASC_Sequoia/AMGmk,10859,43,4729496101,94,0,2008,1972095010,250002007,3440002000,1470125000,24,0,251004099,1960,40,765933,ASC_Sequoia\n",
      "ASC_Sequoia/CrystalMk,10755,43,7228011564,92,0,7,2196000180,300000012,3732000312,1302000000,24,0,133,1910,40,74001653,ASC_Sequoia\n",
      "ASC_Sequoia/IRSmk,10765,43,238351824,92,0,45,2031274399,0,2109375000,0,24,0,156250171,1900,40,77040,ASC_Sequoia\n",
      "BenchmarkGame/fannkuch,10735,43,1193817007,92,0,4,0,0,0,0,24,0,397,1885,40,823671926,BenchmarkGame\n",
      "BenchmarkGame/n-body,10740,43,160008934,92,0,2,325000085,50000023,925000145,300000080,24,0,100000071,1920,40,5000282,BenchmarkGame\n",
      "BenchmarkGame/nsieve-bits,10733,43,296739354,92,0,6,0,0,0,0,24,0,44,1881,40,467,BenchmarkGame\n",
      "BenchmarkGame/partialsums,10750,43,19903254,92,0,44,136610718,13750000,126428805,76417229,24,0,119,1922,40,12648797,BenchmarkGame\n",
      "BenchmarkGame/puzzle,10735,43,512511026,94,0,5,2500000,2500005,2500005,2500000,24,0,5000040,1882,40,7500451,BenchmarkGame\n",
      "BenchmarkGame/recursive,10723,43,496008718,92,0,13,189737956,0,0,3,24,0,34,1879,40,661348316,BenchmarkGame\n",
      "BenchmarkGame/spectral-norm,10745,43,320092823,92,0,2,160004000,160000001,160004000,0,24,0,160000012,1929,40,250,BenchmarkGame\n",
      "BitBench/drop3,10787,0,244034328,93,0,16,0,0,0,0,24,0,15,1914,0,566,BitBench\n",
      "BitBench/five11,10787,0,480522401,93,0,13,0,0,0,0,24,0,4510012,1913,0,452274504,BitBench\n",
      "BitBench/uudecode,10843,0,149501150,94,0,14,0,0,0,0,24,0,310,1990,0,3006,BitBench\n",
      "BitBench/uuencode,10818,0,1690590154,94,0,15,0,0,0,0,24,0,14,1938,0,79727501,BitBench\n",
      "CoyoteBench/almabench,10814,41,625659432,93,0,68,535554100,69761480,960620880,115817000,24,0,228,1982,36,485931903,CoyoteBench\n",
      "CoyoteBench/huffbench,10815,41,12039318106,94,0,7,0,0,0,0,24,0,40000009,1919,36,330169864,CoyoteBench\n",
      "CoyoteBench/lpbench,10769,41,2686761063,93,0,6,2672665000,3999,2674664000,0,24,0,16000009,1902,36,8028974,CoyoteBench\n",
      "DOE_ProxyApps_C/Pathfinder,10956,43,257024901,97,0,21,0,0,0,1,24,0,224756,2008,43,212587912,DOE_ProxyApps_C\n",
      "DOE_ProxyApps_C/RSBench,10854,43,57151549,93,0,204087,25640259,7307386,34711437,8951581,24,0,400248,1926,40,31555858,DOE_ProxyApps_C\n",
      "DOE_ProxyApps_C/SimpleMOC,10895,43,873060934,93,0,12062169,1165655546,507451703,1788772927,442821816,24,0,12118059,1959,40,62968082,DOE_ProxyApps_C\n",
      "DOE_ProxyApps_C/XSBench,10897,43,841340134,94,0,1391724,159134261,77709897,154844860,188324029,24,0,57731389,1962,40,558139353,DOE_ProxyApps_C\n",
      "DOE_ProxyApps_C/miniAMR,10779,0,273347154,92,0,80111,258626717,41230525,38,2433362,24,0,789380,1908,0,19127246,DOE_ProxyApps_C\n",
      "DOE_ProxyApps_C/miniGMG,10827,41,2585152639,93,0,16843,2018687152,21584819,5634225804,4802951120,24,0,100183701,1954,36,180849429,DOE_ProxyApps_C\n",
      "Dhrystone/dry,10730,41,1800008782,92,0,5,0,0,0,0,24,0,400000006,1882,33,300000200,Dhrystone\n",
      "Dhrystone/fldry,10736,43,1000008855,92,0,7,1100000000,0,200000000,200000000,24,0,200000007,1880,40,200000281,Dhrystone\n",
      "Fhourstones,10743,43,248143970,92,0,13,0,7,0,0,24,0,39207550,1879,43,76241108,Fhourstones\n",
      "Fhourstones_31,10740,43,271349441,92,0,6,0,10,0,0,24,0,29877967,1881,43,75359705,Fhourstones_31\n",
      "FreeBench/analyzer,10825,43,22979802,93,0,2526082,10,5,1,10,24,0,1615942,1910,43,758532,FreeBench\n",
      "FreeBench/distray,10847,43,11957118,94,0,8,37874485,8885983,76006783,22317780,24,0,1498715,1957,40,5634123,FreeBench\n",
      "FreeBench/fourinarow,10794,43,463873377,93,0,8,6403836,1000284,5403552,0,24,0,383,1911,40,658561,FreeBench\n",
      "FreeBench/mason,10800,43,11212799,93,0,7,0,0,0,0,24,0,42,1918,43,11204075,FreeBench\n",
      "FreeBench/neural,10820,43,85795791,93,0,11,74108160,115360,70873600,115360,24,0,3301781,1942,40,480440,FreeBench\n",
      "FreeBench/pcompress2,10863,43,42353089,94,0,1296335,0,0,0,0,24,0,1774192,1953,40,17401957,FreeBench\n",
      "FreeBench/pifft,10830,43,20269867,93,0,1528,47366220,1652,48384448,54241237,24,0,84541,1923,43,19426003,FreeBench\n",
      "Linpack,10766,41,4811308755,93,0,3,3848733276,120079616,3665663217,43,24,0,743063835,1889,33,175142710,Linpack\n",
      "MallocBench/cfrac,10985,43,421479740,96,0,62584021,1653,498,1646,63,24,0,27389308,2056,40,183246630,MallocBench\n",
      "MallocBench/espresso,10940,0,116111672,95,0,1547,1599,4206,0,1599,24,0,683078,1947,0,68243829,MallocBench\n",
      "MallocBench/gs,11022,0,11748977,95,0,245013,84782,26961,479764,19285,24,0,1080261,1995,0,5165938,MallocBench\n",
      "MallocBench/make,11355,0,225617,102,0,1102,0,0,0,0,24,0,2987,2101,0,75694,MallocBench\n",
      "McCat/01-qbsort,10826,0,11726130,93,0,10,0,0,0,0,24,0,383772,1930,0,14563608,McCat\n",
      "McCat/03-testtrie,10835,43,1176953,94,0,19,0,0,0,0,24,0,38033,1941,43,918147,McCat\n",
      "McCat/04-bisect,10797,43,17289253,93,0,5119,72396,11506465,25468,22989464,24,0,13104,1892,43,119556,McCat\n",
      "McCat/05-eks,10807,43,882205,93,0,12,809328,27054,3165118,780683,24,0,3127,1961,40,83496,McCat\n",
      "McCat/08-main,10801,43,2691950,93,0,30291,16340278,2,21755158,828318,24,0,113450,1952,40,1802653,McCat\n",
      "McCat/09-vor,10806,43,8015174,93,0,14,907,947,2180,822,24,0,1566807,1963,43,5798971,McCat\n",
      "McCat/12-IOtest,10729,43,61742195,92,0,4,0,0,0,0,24,0,64417245,1887,40,40261199,McCat\n",
      "McCat/15-trie,10820,43,91749,93,0,12,0,0,0,0,24,0,1318,1910,40,32993,McCat\n",
      "McCat/17-bintr,10749,43,10639051,92,0,28,180000,1,0,0,24,0,272245,1908,43,1105676,McCat\n",
      "McGill/chomp,10757,43,202856484,92,0,5,0,0,0,0,24,0,55,1897,40,185730801,McGill\n",
      "McGill/exptree,10832,43,9821,94,0,20,0,0,0,0,24,0,31,1919,43,671,McGill\n",
      "McGill/misr,10761,43,78509322,92,0,7,0,10000001,0,0,24,0,32100039,1890,40,34300652,McGill\n",
      "McGill/queens,10819,0,810529096,94,0,5,0,0,0,0,24,0,12,1931,0,343,McGill\n",
      "MiBench/automotive-basicmath,10752,43,95929625,92,0,1180913,2566944,777489,3022258,1144208,24,0,9522371,1918,40,86011770,MiBench\n",
      "MiBench/automotive-bitcount,10803,43,112926866,95,0,5,0,0,0,0,24,0,84,1911,40,668,MiBench\n",
      "MiBench/automotive-susan,10845,41,128428612,93,0,110605,0,738,1253,0,24,0,50103475,1932,33,25333813,MiBench\n",
      "MiBench/consumer-jpeg,10934,0,3704588,95,0,279,0,0,0,0,24,0,363358,1998,0,593264,MiBench\n",
      "MiBench/consumer-lame,11007,41,64622620,95,0,9356,94354938,841304,113896489,35646924,24,0,657046,1959,33,13766128,MiBench\n",
      "MiBench/network-dijkstra,10823,0,16109698,94,0,9,0,0,0,0,24,0,7593498,1914,0,713202,MiBench\n",
      "MiBench/network-patricia,10800,0,20121312,93,0,637445,0,0,0,0,24,0,1008926,1899,0,19326297,MiBench\n",
      "MiBench/office-stringsearch,10785,43,482687,92,0,29,0,0,0,0,24,0,0,1901,40,104659,MiBench\n",
      "MiBench/security-blowfish,10763,0,39843,92,0,5,0,0,0,0,24,0,49,1893,0,41442,MiBench\n",
      "MiBench/security-rijndael,10783,41,5514725,93,0,803,0,0,0,0,24,0,405957,1906,33,3053737,MiBench\n",
      "MiBench/security-sha,10797,43,19496669,93,0,409,0,0,0,0,24,0,398,1940,40,55211,MiBench\n",
      "MiBench/telecomm-CRC32,10741,43,53242341,92,0,8,0,0,0,0,24,0,8,1884,40,53233772,MiBench\n",
      "MiBench/telecomm-FFT,10798,0,8079641,95,0,50,1020739,65551,2010004,1239024,24,0,1133744,1948,0,6248375,MiBench\n",
      "Misc/ReedSolomon,10726,41,6242431747,92,0,1,0,0,0,0,24,0,1391367632,1881,33,3468522945,Misc\n",
      "Misc/dt,10749,43,268583662,92,0,6,30685,268435456,51160,14,24,0,20,1912,40,2399,Misc\n",
      "Misc/evalloop,10733,43,409714843,92,0,3,0,0,0,0,24,0,2057,1879,40,102199,Misc\n",
      "Misc/fbench,10761,43,129010662,92,0,31,260000000,82000001,294000000,95000000,24,0,175,1925,40,87001780,Misc\n",
      "Misc/ffbench,10779,41,196439142,93,0,2273,198449244,2017,264609214,198346949,24,0,1010,1904,33,69118,Misc\n",
      "Misc/flops,10725,43,506283502,92,0,5,3662727652,316533145,4352800503,566215859,24,0,438,1885,40,3426,Misc\n",
      "Misc/flops-1,10725,43,312508981,92,0,3,2187500001,312500003,1874999997,0,24,0,33,1880,40,374,Misc\n",
      "Misc/flops-2,10725,43,312508982,92,0,3,468750001,156250003,156250004,625000002,24,0,33,1880,40,374,Misc\n",
      "Misc/flops-3,10725,43,312508973,92,0,3,1874999999,3,2812500003,625000001,24,0,29,1880,40,371,Misc\n",
      "Misc/flops-4,10725,43,156258979,92,0,3,1093750007,4,1250000011,1,24,0,33,1880,40,374,Misc\n",
      "Misc/flops-5,10725,43,156258963,92,0,3,2031250000,156250003,2343750003,1,24,0,25,1880,40,361,Misc\n",
      "Misc/flops-6,10725,43,156258963,92,0,3,2031250000,3,2500000003,1,24,0,25,1880,40,359,Misc\n",
      "Misc/flops-7,10728,43,156258963,92,0,3,468750002,468750000,468750003,468750000,24,0,25,1882,40,357,Misc\n",
      "Misc/flops-8,10725,43,156258970,92,0,3,2031250000,3,2656250003,1,24,0,29,1880,40,364,Misc\n",
      "Misc/fp-convert,10726,43,2049508817,92,0,11,3072600000,0,1024000000,0,24,0,500015,1881,40,265,Misc\n",
      "Misc/himenobmtxpa,10748,43,680861554,92,0,5,433972224,524288,402974208,216986112,24,0,1252438578,1893,40,524809,Misc\n",
      "Misc/lowercase,10729,43,5600010610,92,0,5,0,0,0,0,24,0,54,1891,40,1555,Misc\n",
      "Misc/mandel,10742,43,78140911,92,0,3,228132195,50000000,228112195,153107195,24,0,4,1921,40,50000157,Misc\n",
      "Misc/mandel-2,10733,43,156909156,92,0,4,627380226,12168,784213017,156838953,24,0,0,1879,40,156906692,Misc\n",
      "Misc/matmul_f64_4x4,10725,43,800010288,92,0,75,2400000000,0,3200000000,0,24,0,108,1884,40,50002231,Misc\n",
      "Misc/oourafft,10802,43,1481124818,92,0,14342,3978338506,1,3990042208,4410944494,24,0,2742895,1918,40,38404735,Misc\n",
      "Misc/perlin,10742,43,341517933,92,0,11,1002192770,0,939149332,554951878,24,0,11,1921,40,42688874,Misc\n",
      "Misc/pi,10727,43,111324067,92,0,3,80000000,120000001,160000002,40000000,24,0,120000056,1881,40,40000511,Misc\n",
      "Misc/revertBits,10728,43,8822,92,0,4,0,0,0,0,24,0,24,1887,40,282,Misc\n",
      "Misc/richards_benchmark,10728,43,116194469,92,0,4,0,0,0,0,24,0,15,1887,40,12326739,Misc\n",
      "Misc/salsa20,10725,43,13851435938,92,0,3,0,0,0,0,24,0,0,1880,40,192,Misc\n",
      "Misc/whetstone,10797,43,369860390,93,0,25,359505650,114000000,229107842,51298712,24,0,147000998,1924,40,165124747,Misc\n",
      "NPB-serial/dc,10921,43,382079328,94,0,11652297,0,0,0,0,24,0,23415175,1935,40,145921382,NPB-serial\n",
      "NPB-serial/is,10722,43,2015406418,92,0,3,369098821,0,1778384965,536870912,24,0,36,1880,40,801,NPB-serial\n",
      "Olden/bh,10811,43,462000744,93,0,20076,203445746,45981495,205836725,144267285,24,0,12956,1904,40,47622592,Olden\n",
      "Olden/bisort,10730,43,127976804,92,0,18,0,0,0,0,24,0,141559449,1885,40,65500649,Olden\n",
      "Olden/em3d,10741,43,59745681,92,0,793341,0,480874,128000,737386,24,0,1402750,1883,40,3131350,Olden\n",
      "Olden/health,10751,43,38768588,92,0,14,1396521,2,3966267,28665,24,0,7927167,1899,40,42742724,Olden\n",
      "Olden/mst,10742,0,12266222,92,0,3496507,0,0,0,0,24,0,10989014,1880,0,4007650,Olden\n",
      "Olden/perimeter,10736,0,41955572,92,0,6,0,0,0,0,24,0,13981027,1882,0,13633834,Olden\n",
      "Olden/power,10746,43,328366764,92,0,738,319589583,189469685,344561052,88552538,24,0,2427,1925,40,10979230,Olden\n",
      "Olden/treeadd,10742,0,222308658,92,0,6,0,0,0,0,24,0,12,1880,0,7341118,Olden\n",
      "Olden/tsp,10765,43,25739754,92,0,7,88170008,3145725,169918441,173064164,24,0,2097168,1921,40,16772150,Olden\n",
      "Olden/voronoi,10774,43,35643375,92,0,786891,6355553,393301,37796566,60831235,24,0,5031720,1909,40,31471796,Olden\n",
      "PAQ8p,608011,851,135679151,68189,9,1057,0,0,0,0,8351,0,18928389,24244,480,16017169,PAQ8p\n",
      "Prolangs-C/TimberWolfMC,10846,0,8743,94,0,4,0,0,0,0,24,0,0,1953,0,190,Prolangs-C\n",
      "Prolangs-C/agrep,10912,0,487944,94,0,37,0,0,0,0,24,0,5,1953,0,459093,Prolangs-C\n",
      "Prolangs-C/allroots,10747,43,11792,92,0,12,56,25,48,23,24,0,281,1910,40,2755,Prolangs-C\n",
      "Prolangs-C/archie-client,10900,0,465,93,0,3,0,0,0,0,24,0,2,1907,0,450,Prolangs-C\n",
      "Prolangs-C/assembler,10824,43,8746,92,0,4,0,0,0,0,24,0,0,1922,40,181,Prolangs-C\n",
      "Prolangs-C/bison,10914,0,440084,94,0,41,0,0,0,0,24,0,11721,1958,0,292430,Prolangs-C\n",
      "Prolangs-C/cdecl,10960,43,52231,96,0,16,0,0,0,0,24,0,0,2045,43,25524,Prolangs-C\n",
      "Prolangs-C/compiler,10805,43,8982,93,0,7,0,0,0,0,24,0,4,1924,43,317,Prolangs-C\n",
      "Prolangs-C/fixoutput,10809,0,8899,93,0,7,0,0,0,0,24,0,1,1936,0,331,Prolangs-C\n",
      "Prolangs-C/football,10879,0,124,95,0,2,0,0,0,0,24,0,0,1950,0,119,Prolangs-C\n",
      "Prolangs-C/gnugo,10811,0,43594833,93,0,1097,0,0,0,0,24,0,6226252,1923,0,884114,Prolangs-C\n",
      "Prolangs-C/loader,10774,43,8669,92,0,3,0,0,0,0,24,0,0,1923,40,118,Prolangs-C\n",
      "Prolangs-C/plot2fig,10844,43,8844,94,0,6,0,0,0,0,24,0,3,1931,43,278,Prolangs-C\n",
      "Prolangs-C/simulator,10858,43,8670,94,0,3,0,0,0,0,24,0,0,2006,40,119,Prolangs-C\n",
      "Prolangs-C/unix-smail,10994,43,24788,97,0,43,0,0,0,0,24,0,107,1978,40,13573,Prolangs-C\n",
      "Prolangs-C/unix-tbl,10871,0,8819,95,0,5,0,0,0,0,24,0,0,1943,0,252,Prolangs-C\n",
      "Ptrdist/anagram,10887,0,389556839,95,0,22,0,0,0,0,24,0,31671,1948,0,287011014,Ptrdist\n",
      "Ptrdist/bc,10990,0,162418247,97,0,1494136,0,0,0,0,24,0,31346748,2004,0,119438571,Ptrdist\n",
      "Ptrdist/ft,10791,0,191343090,93,0,208853,0,0,0,0,24,0,1898113,1904,0,18106599,Ptrdist\n",
      "Ptrdist/ks,10846,0,563916,94,0,31,72055780,0,35579250,34909,24,0,9340,1964,0,135189,Ptrdist\n",
      "Ptrdist/yacr2,10842,0,1099103675,94,0,17610,0,0,0,0,24,0,48504200,1925,0,32367603,Ptrdist\n",
      "SciMark2-C,10796,43,21531152668,93,0,1008,20493953644,6995568,25702792536,9971840696,24,0,569,1914,40,4439752081,SciMark2-C\n",
      "Shootout/ackermann,10728,43,4186696,92,0,3,0,0,0,0,24,0,5,1885,40,1394176,Shootout\n",
      "Shootout/ary3,10734,43,1500103555,92,0,5,0,0,0,0,24,0,16,1881,40,1500000253,Shootout\n",
      "Shootout/fib2,10726,43,701417429,92,0,3,0,0,0,0,24,0,9,1884,40,701408878,Shootout\n",
      "Shootout/hash,10754,43,425255200,92,0,7000009,0,0,0,0,24,0,23388903,1893,40,474882967,Shootout\n",
      "Shootout/heapsort,10736,43,276809537,92,0,4,0,8000000,8000000,0,24,0,24000010,1882,40,20000244,Shootout\n",
      "Shootout/hello,10725,43,8670,92,0,3,0,0,0,0,24,0,0,1880,40,106,Shootout\n",
      "Shootout/lists,10743,43,1962008751,92,0,5,0,0,0,0,24,0,3,1902,40,699000209,Shootout\n",
      "Shootout/matrix,10742,43,6333009551,92,0,5,0,0,0,0,24,0,3000000019,1880,40,577,Shootout\n",
      "Shootout/methcall,10736,43,1500008760,92,0,5,0,0,0,0,24,0,0,1886,40,195,Shootout\n",
      "Shootout/nestedloop,10733,43,210548626,92,0,3,0,0,0,0,24,0,9,1883,40,145,Shootout\n",
      "Shootout/objinst,10732,43,910008869,92,0,5,0,0,0,0,24,0,0,1884,40,840000263,Shootout\n",
      "Shootout/random,10734,43,800008822,92,0,13,0,400000000,400000000,0,24,0,1200000013,1883,40,800000269,Shootout\n",
      "Shootout/sieve,10726,43,6137008695,92,0,3,0,0,0,0,24,0,4,1884,40,170139,Shootout\n",
      "Shootout/strcat,10757,43,50009022,92,0,8,0,0,0,0,24,0,9,1879,40,15370275,Shootout\n",
      "Stanford/Bubblesort,10732,43,12636762,92,0,2,0,0,0,0,24,0,150500,1879,40,53500,Stanford\n",
      "Stanford/FloatMM,10723,43,1048634295,92,0,344,320000000,16000000,320000000,0,24,0,712000531,1879,40,21296,Stanford\n",
      "Stanford/IntMM,10725,43,2746150,92,0,2,0,0,0,0,24,0,2064047,1880,40,434,Stanford\n",
      "Stanford/Oscar,10725,43,2401636,92,0,4,617920,6870,931490,1029870,24,0,9630,1880,40,22505,Stanford\n",
      "Stanford/Puzzle,10733,43,88288461,92,0,3,0,0,0,0,24,0,600,1879,40,407005,Stanford\n",
      "Stanford/Queens,10733,43,8416154,92,0,3,0,0,0,0,24,0,192,1879,40,2862889,Stanford\n",
      "Stanford/Quicksort,10727,43,6498362,92,0,2,0,0,0,0,24,0,1500500,1881,40,4863300,Stanford\n",
      "Stanford/RealMM,10733,43,2107295,92,0,99,640000,32000,640000,0,24,0,1424131,1879,40,1688,Stanford\n",
      "Stanford/Towers,10733,43,9846062,92,0,3,0,0,0,0,24,0,500,1879,40,11475705,Stanford\n",
      "Stanford/Treesort,10729,43,14831886,92,0,3,0,0,0,0,24,0,1500459,1887,40,11070002,Stanford\n",
      "TSVC/ControlFlow-dbl,10735,43,2378308791,92,0,252,2529512071,1732608,2557408888,111584000,24,0,1447,1880,40,7141,TSVC\n",
      "TSVC/ControlFlow-flt,10735,43,2378306879,92,0,113,2529501863,1732608,2557398680,111584000,24,0,1253,1880,40,5873,TSVC\n",
      "TSVC/ControlLoops-dbl,10739,43,3624908874,92,0,75,3101839872,806144,3463680000,0,24,0,224277,1881,40,4348,TSVC\n",
      "TSVC/ControlLoops-flt,10739,43,3624908000,92,0,35,3101839872,806144,3463680000,0,24,0,224177,1881,40,3875,TSVC\n",
      "TSVC/CrossingThresholds-dbl,10731,43,2869144382,92,0,46,3548430490,359680,2272972800,0,24,0,4531,1882,40,188162256,TSVC\n",
      "TSVC/CrossingThresholds-flt,10731,43,2869144348,92,0,26,3548430490,359680,2272972800,0,24,0,4503,1882,40,188162085,TSVC\n",
      "TSVC/Equivalencing-dbl,10734,43,2401782830,92,0,41,2402217220,356608,0,0,24,0,160117,1885,40,1845,TSVC\n",
      "TSVC/Equivalencing-flt,10731,43,2401782469,92,0,19,2402217220,356608,0,0,24,0,160080,1883,40,1629,TSVC\n",
      "TSVC/Expansion-dbl,10729,43,2444932507,92,0,123,3380566853,838144,3112128320,154009600,24,0,64672,1882,40,3506,TSVC\n",
      "TSVC/Expansion-flt,10729,43,2444931761,92,0,61,3380566853,838144,3112128320,154009600,24,0,64599,1882,40,3020,TSVC\n",
      "TSVC/GlobalDataFlow-dbl,10754,43,3165717782,92,0,124,3448772041,710144,1237321800,2036880,24,0,2245191,1910,40,44859456,TSVC\n",
      "TSVC/GlobalDataFlow-flt,10752,43,3121077878,92,0,53,3532981021,710144,1389860790,1380,24,0,2245100,1910,40,668467,TSVC\n",
      "TSVC/IndirectAddressing-dbl,10731,43,3441004562,92,0,64,2721705008,614144,2318750000,0,24,0,1282182,1882,40,400002659,TSVC\n",
      "TSVC/IndirectAddressing-flt,10733,43,3441003840,92,0,26,2721705008,614144,2318750000,0,24,0,1282113,1883,40,400002290,TSVC\n",
      "TSVC/InductionVariable-dbl,10729,43,4402042645,92,0,97,3459195997,614144,1999424000,291200000,24,0,127008,1882,40,291202617,TSVC\n",
      "TSVC/InductionVariable-flt,10729,43,3819642152,92,0,40,3459195997,614144,1999424000,291200000,24,0,126944,1882,40,291202172,TSVC\n",
      "TSVC/LinearDependence-dbl,10739,43,3799270386,92,0,147,2770162826,842752,2193562300,424320000,24,0,627064,1881,40,685432927,TSVC\n",
      "TSVC/LinearDependence-flt,10739,43,3685029298,92,0,58,2770162826,842752,2193562300,424320000,24,0,626955,1881,40,685432210,TSVC\n",
      "TSVC/LoopRerolling-dbl,10731,43,1920338841,92,0,23,4209688576,260608,2861440000,0,24,0,77,1883,40,1408,TSVC\n",
      "TSVC/LoopRerolling-flt,10731,43,1920338721,92,0,18,4209688576,260608,2861440000,0,24,0,68,1883,40,1328,TSVC\n",
      "TSVC/LoopRestructuring-dbl,10729,43,1282794186,92,0,97,1256554002,976896,540330500,69597825,24,0,142492,1882,40,2744,TSVC\n",
      "TSVC/LoopRestructuring-flt,10729,43,1282793641,92,0,49,1256554002,976896,540330500,69597825,24,0,142428,1882,40,2320,TSVC\n",
      "TSVC/NodeSplitting-dbl,10731,43,1985840286,92,0,69,4162402869,292608,4799850000,0,24,0,2151,1884,40,1977,TSVC\n",
      "TSVC/NodeSplitting-flt,10731,43,1985839837,92,0,32,4162402869,292608,4799850000,0,24,0,2098,1883,40,1662,TSVC\n",
      "TSVC/Packing-dbl,10731,43,6786382663,92,0,42,1266432,358144,0,0,24,0,77,1882,40,1281,TSVC\n",
      "TSVC/Packing-flt,10731,43,6786382386,92,0,18,1266432,358144,0,0,24,0,49,1882,40,1094,TSVC\n",
      "TSVC/Recurrences-dbl,10731,43,1281140012,92,0,25,1921186433,292608,1919920000,0,24,0,59,1882,40,1156,TSVC\n",
      "TSVC/Recurrences-flt,10731,43,1281139930,92,0,16,1921186433,292608,1919920000,0,24,0,49,1882,40,1089,TSVC\n",
      "TSVC/Reductions-dbl,10735,43,2784163299,92,0,78,1449217078,775680,935200000,0,24,0,3470975,1880,40,243870468,TSVC\n",
      "TSVC/Reductions-flt,10735,43,2784162546,92,0,39,1449217078,775680,935200000,0,24,0,3470823,1880,40,240529937,TSVC\n",
      "TSVC/Searching-dbl,10729,43,5120980611,92,0,10,924288,260608,0,0,24,0,32044,1882,40,786,TSVC\n",
      "TSVC/Searching-flt,10729,43,5120980566,92,0,8,924288,260608,0,0,24,0,32034,1882,40,742,TSVC\n",
      "TSVC/StatementReordering-dbl,10731,43,1921090208,92,0,43,1921166435,420608,3199840000,639960000,24,0,87,1882,40,1132,TSVC\n",
      "TSVC/StatementReordering-flt,10731,43,1921089921,92,0,20,1921166435,420608,3199840000,639960000,24,0,59,1882,40,938,TSVC\n",
      "TSVC/Symbolics-dbl,10729,43,3492769149,92,0,71,3783963774,420608,0,0,24,0,160147,1882,40,1880,TSVC\n",
      "TSVC/Symbolics-flt,10729,43,3492768667,92,0,29,3783963774,420608,0,0,24,0,160101,1882,40,1560,TSVC\n",
      "Trimaran/enc-3des,10764,43,9070819,93,0,5,0,0,0,0,24,0,25,1908,40,677,Trimaran\n",
      "Trimaran/enc-md5,10755,43,1440144839,92,0,5,0,0,0,0,24,0,100002,1902,40,8033764,Trimaran\n",
      "Trimaran/enc-pc1,10730,43,570115346,92,0,9,0,0,0,0,24,0,245010481,1893,40,5123869,Trimaran\n",
      "Trimaran/enc-rc4,10758,43,1602809014,92,0,6,0,0,0,0,24,0,1200018,1891,40,2400453,Trimaran\n",
      "Trimaran/netbench-crc,10797,43,233129616,94,0,6,0,0,0,0,24,0,48019,1914,40,100835,Trimaran\n",
      "Trimaran/netbench-url,10830,43,766541533,94,0,11,0,0,0,0,24,0,12919,1920,43,2483040,Trimaran\n",
      "VersaBench/8b10b,10786,43,4011470,93,0,10,0,0,0,0,24,0,5,1902,40,1002,VersaBench\n",
      "VersaBench/beamformer,10818,43,755015656,94,0,1590333,1288194048,0,1271156736,3751936,24,0,2787263,1949,40,37424654,VersaBench\n",
      "VersaBench/bmm,10731,0,4371598921,92,0,14,1074790656,0,1073741824,0,24,0,2097174,1895,0,1446,VersaBench\n",
      "VersaBench/dbms,10911,0,95927579,95,0,523157,153482,0,13546021,20578766,24,0,1196827,1995,0,80093162,VersaBench\n",
      "VersaBench/ecbdes,10736,0,497010107,92,0,6,0,0,0,0,24,0,2,1881,0,16000255,VersaBench\n",
      "llubenchmark,10731,43,2355941222,92,0,5,6000,0,0,6000,24,0,12040,1881,40,2353547,llubenchmark\n",
      "mafft,11008,43,6565327530,95,0,9147,10520413378,14905,7575,880,24,0,40396151,2001,40,4002615363,mafft\n",
      "mediabench/adpcm/rawcaudio,10767,0,614682,93,0,4,0,0,0,0,24,0,5,1886,0,661509,mediabench\n",
      "mediabench/adpcm/rawdaudio,10767,0,598537,93,0,4,0,0,0,0,24,0,6,1886,0,218174,mediabench\n",
      "mediabench/g721/g721encode,10846,41,50777101,95,0,43,0,0,0,0,24,0,3017733,1952,36,11925341,mediabench\n",
      "mediabench/gsm/toast,11011,0,45469247,96,0,37,0,0,0,0,24,0,35672539,2015,0,2343357,mediabench\n",
      "mediabench/jpeg/jpeg-6a,10928,0,1764485,95,0,7205,0,0,0,0,24,0,171563,1961,0,215476,mediabench\n",
      "mediabench/mpeg2/mpeg2dec,10865,43,22826519,94,0,1115,7167880,0,6746304,0,24,0,73382,1936,40,248507,mediabench\n",
      "nbench,10845,0,1731363833,92,0,1134582,246642793,1944532,405717401,229576936,24,0,207882326,1915,0,289618387,nbench\n",
      "sim,10840,0,468554712,94,0,67,7,8,7,0,24,0,12059,1927,0,1096025907,sim\n",
      "tramp3d-v4,359629,2543,1283631019,2802,7,65746,35489654,8236526,57829464,12952224,945,153,225335068,32912,1076,305482488,tramp3d-v4\n"
     ]
    }
   ],
   "source": [
    "df.to_csv(sys.stdout, na_rep='0', index=False, float_format='%.f')"
   ]
  },
  {
   "cell_type": "code",
   "execution_count": null,
   "metadata": {},
   "outputs": [],
   "source": []
  },
  {
   "cell_type": "code",
   "execution_count": null,
   "metadata": {},
   "outputs": [],
   "source": []
  },
  {
   "cell_type": "code",
   "execution_count": null,
   "metadata": {},
   "outputs": [],
   "source": []
  },
  {
   "cell_type": "code",
   "execution_count": null,
   "metadata": {},
   "outputs": [],
   "source": []
  },
  {
   "cell_type": "code",
   "execution_count": null,
   "metadata": {},
   "outputs": [],
   "source": []
  },
  {
   "cell_type": "code",
   "execution_count": null,
   "metadata": {},
   "outputs": [],
   "source": []
  },
  {
   "cell_type": "code",
   "execution_count": null,
   "metadata": {},
   "outputs": [],
   "source": []
  },
  {
   "cell_type": "code",
   "execution_count": null,
   "metadata": {},
   "outputs": [],
   "source": []
  },
  {
   "cell_type": "code",
   "execution_count": null,
   "metadata": {},
   "outputs": [],
   "source": []
  },
  {
   "cell_type": "code",
   "execution_count": null,
   "metadata": {},
   "outputs": [],
   "source": []
  },
  {
   "cell_type": "code",
   "execution_count": null,
   "metadata": {},
   "outputs": [],
   "source": []
  },
  {
   "cell_type": "code",
   "execution_count": null,
   "metadata": {},
   "outputs": [],
   "source": []
  },
  {
   "cell_type": "code",
   "execution_count": null,
   "metadata": {},
   "outputs": [],
   "source": []
  },
  {
   "cell_type": "code",
   "execution_count": null,
   "metadata": {},
   "outputs": [],
   "source": []
  },
  {
   "cell_type": "code",
   "execution_count": null,
   "metadata": {},
   "outputs": [],
   "source": [
    "d = pd.read_csv('../../../loads.csv', sep=',')"
   ]
  },
  {
   "cell_type": "code",
   "execution_count": null,
   "metadata": {},
   "outputs": [],
   "source": [
    "sel = list(filter(lambda x : 'main' in x, d.columns))\n",
    "d['main'] = d[sel].sum(axis=1)"
   ]
  },
  {
   "cell_type": "markdown",
   "metadata": {},
   "source": [
    "a.exe com mem2reg"
   ]
  },
  {
   "cell_type": "code",
   "execution_count": 369,
   "metadata": {},
   "outputs": [
    {
     "data": {
      "text/plain": [
       "0    14754\n",
       "Name: main, dtype: int64"
      ]
     },
     "execution_count": 369,
     "metadata": {},
     "output_type": "execute_result"
    }
   ],
   "source": [
    "d['main']"
   ]
  },
  {
   "cell_type": "markdown",
   "metadata": {},
   "source": [
    "b.exe com mem2reg"
   ]
  },
  {
   "cell_type": "code",
   "execution_count": 363,
   "metadata": {},
   "outputs": [
    {
     "data": {
      "text/plain": [
       "0    14723\n",
       "Name: main, dtype: int64"
      ]
     },
     "execution_count": 363,
     "metadata": {},
     "output_type": "execute_result"
    }
   ],
   "source": [
    "d['main']"
   ]
  },
  {
   "cell_type": "markdown",
   "metadata": {},
   "source": [
    "b.exe sem mem2reg"
   ]
  },
  {
   "cell_type": "code",
   "execution_count": 360,
   "metadata": {},
   "outputs": [
    {
     "data": {
      "text/plain": [
       "0    15010\n",
       "Name: main, dtype: int64"
      ]
     },
     "execution_count": 360,
     "metadata": {},
     "output_type": "execute_result"
    }
   ],
   "source": [
    "d['main']"
   ]
  }
 ],
 "metadata": {
  "kernelspec": {
   "display_name": "Python 3",
   "language": "python",
   "name": "python3"
  },
  "language_info": {
   "codemirror_mode": {
    "name": "ipython",
    "version": 3
   },
   "file_extension": ".py",
   "mimetype": "text/x-python",
   "name": "python",
   "nbconvert_exporter": "python",
   "pygments_lexer": "ipython3",
   "version": "3.4.3"
  }
 },
 "nbformat": 4,
 "nbformat_minor": 2
}
