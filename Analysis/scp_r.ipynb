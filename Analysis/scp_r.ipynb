{
 "cells": [
  {
   "cell_type": "markdown",
   "metadata": {},
   "source": [
    "### Types\n",
    "\n",
    "- [ ] Stores\n",
    "- [ ] Loads\n",
    "\n",
    "- [ ] Branches (LLVM Br vs br/indirect)\n",
    "\n",
    "- [ ] CMP (LLVM CMP/Select vs CMP)\n",
    "- [ ] FCMP\n",
    "\n",
    "- [ ] CALL\n",
    "\n",
    "- [ ] Add-Sub\n",
    "- [ ] Mul\n",
    "- [ ] Div (LLVM UDIV/SDIV/UREM/SREM vs DIV) ~> DIV already gives the remainder\n",
    "- [ ] OR\n",
    "- [ ] AND\n",
    "- [ ] XOR\n",
    "\n",
    "- [ ] SHL\n",
    "- [ ] ASHR\n",
    "- [ ] LSHR\n",
    "\n",
    "- [ ] FADD\n",
    "- [ ] FSUB\n",
    "- [ ] FMUL\n",
    "- [ ] FDIV\n",
    "\n"
   ]
  },
  {
   "cell_type": "code",
   "execution_count": 1,
   "metadata": {},
   "outputs": [
    {
     "name": "stderr",
     "output_type": "stream",
     "text": [
      "\n",
      "Attaching package: ‘dplyr’\n",
      "\n",
      "The following objects are masked from ‘package:stats’:\n",
      "\n",
      "    filter, lag\n",
      "\n",
      "The following objects are masked from ‘package:base’:\n",
      "\n",
      "    intersect, setdiff, setequal, union\n",
      "\n"
     ]
    }
   ],
   "source": [
    "library(ggplot2)\n",
    "library(dplyr)\n",
    "library(RColorBrewer)\n",
    "library(tidyr)\n",
    "library(readr)\n",
    "options(repr.plot.width=5, repr.plot.height=4)"
   ]
  },
  {
   "cell_type": "markdown",
   "metadata": {},
   "source": [
    "## LLVM"
   ]
  },
  {
   "cell_type": "code",
   "execution_count": 2,
   "metadata": {},
   "outputs": [],
   "source": [
    "get_llvm <- function(prefix){\n",
    "    llvm = read.csv(paste(prefix, 'count_SSA.csv', sep='/'))\n",
    "    llvm\n",
    "}"
   ]
  },
  {
   "cell_type": "markdown",
   "metadata": {},
   "source": [
    "# PIN"
   ]
  },
  {
   "cell_type": "code",
   "execution_count": 3,
   "metadata": {},
   "outputs": [],
   "source": [
    "get_pin <- function(prefix){\n",
    "    ps = read.csv(paste(prefix, 'stores.csv', sep='/'))\n",
    "    pl = read.csv(paste(prefix, 'loads.csv', sep='/'))\n",
    "    pbr = read.csv(paste(prefix, 'br.csv', sep='/')) \n",
    "    pbin = read.csv(paste(prefix, 'binops.csv', sep='/'))\n",
    "    pin = Reduce(function(x, y) merge(x, y, all=TRUE, on=Benchmark), list(ps, pl, pbr, pbin))[0:252,]\n",
    "\n",
    "    opcodes = list('store', 'load', 'br', 'indirect', \n",
    "                   'ADD', 'SUB', 'MUL', 'DIV', \n",
    "                   'XOR', 'AND', 'OR',\n",
    "                   'SHL', 'ASHR', 'LSHR',\n",
    "                   'FADD', 'FSUB', 'FMUL', 'FDIV',\n",
    "                   'CMP', 'FCMP',\n",
    "                   'CALL')\n",
    "\n",
    "    for (op in opcodes){\n",
    "        pin[tolower(op)] = pin[paste(op, '_before', sep='')] + pin[paste(op, '_main', sep='')] + pin[paste(op, '_end', sep='')]\n",
    "    }\n",
    "\n",
    "    pin %>% select(c('Benchmark',\n",
    "                     'store', 'load', 'br', 'indirect', \n",
    "                     'add', 'sub', 'mul', 'div', \n",
    "                     'fadd', 'fsub', 'fmul', 'fdiv', \n",
    "                     'xor', 'and', 'or', \n",
    "                     'shl', 'ashr', 'lshr', \n",
    "                     'cmp', 'fcmp'))\n",
    "}"
   ]
  },
  {
   "cell_type": "code",
   "execution_count": 4,
   "metadata": {},
   "outputs": [],
   "source": [
    "pinO0 = get_pin('dataO0')\n",
    "pinO1 = get_pin('dataO1')\n",
    "pinO2 = get_pin('dataO2')\n",
    "pinO3 = get_pin('dataO3')\n",
    "\n",
    "llvmO0 = get_llvm('dataO0')\n",
    "llvmO1 = get_llvm('dataO1')\n",
    "llvmO2 = get_llvm('dataO2')\n",
    "llvmO3 = get_llvm('dataO3')"
   ]
  },
  {
   "cell_type": "code",
   "execution_count": 5,
   "metadata": {},
   "outputs": [],
   "source": [
    "get <- function(llvm_col, pin_col){\n",
    "#     T = data.frame(llvmO0$Benchmark)\n",
    "    \n",
    "    llvm=list(llvmO0, llvmO1, llvmO2, llvmO3)\n",
    "    pin=list(pinO0, pinO1, pinO2, pinO3)\n",
    "    suffix=list('O0', 'O1', 'O2', 'O3')\n",
    "    \n",
    "    for (i in seq(1,4)){\n",
    "        L = llvm[[i]]\n",
    "        P = pin[[i]]\n",
    "        S = suffix[[i]]\n",
    "        \n",
    "        df = merge(L[, append(c('Benchmark'), llvm_col)], P[, append(c('Benchmark'), pin_col)], on='Benchmark')\n",
    "        df['visible'] = rowSums(df[, llvm_col, drop=FALSE]) / rowSums(df[, pin_col, drop=FALSE])\n",
    "        df['invisible'] = 1 - df['visible']\n",
    "        \n",
    "        df = df %>% rename_at(vars(-ends_with('Benchmark')), function(x) paste(x, S, sep='_'))\n",
    "        \n",
    "        if (i == 1){\n",
    "            T = df\n",
    "        }\n",
    "        else{\n",
    "            T = merge(T, df, on=Benchmark)   \n",
    "        }\n",
    "    }\n",
    "    \n",
    "    is.na(T) = sapply(T, is.infinite)\n",
    "    T = T %>% mutate(group = sapply(strsplit(as.character(Benchmark), \"/\"), function(x) x[2]))\n",
    "    T %>% filter(!grepl(\"Misc|TSVC|mafft\",Benchmark))\n",
    "}\n"
   ]
  },
  {
   "cell_type": "code",
   "execution_count": 121,
   "metadata": {},
   "outputs": [],
   "source": [
    "store = get('STORE', 'store')\n",
    "load = get('LOAD', 'load')\n",
    "\n",
    "br = get('BR', c('br', 'indirect'))\n",
    "\n",
    "addsub = get(c('ADD', 'SUB'), c('add', 'sub'))\n",
    "mul = get('MUL', 'mul')\n",
    "div = get(c('UDIV', 'SDIV', 'UREM', 'SREM', 'SHL', 'ASHR', 'LSHR'), c('div', 'ashr', 'lshr', 'shl'))\n",
    "\n",
    "xor = get('XOR', 'xor')\n",
    "and = get('AND', 'and')\n",
    "or = get('OR', 'or')\n",
    "\n",
    "# shl = get('SHL', 'shl')\n",
    "# ashr = get('ASHR', 'ashr')\n",
    "# lshr = get('LSHR', 'lshr')\n",
    "\n",
    "fadd = get('FADD', 'fadd')\n",
    "fsub = get('FSUB', 'fsub')\n",
    "fmul = get('FMUL', 'fmul')\n",
    "fdiv = get('FDIV', 'fdiv')\n",
    "\n",
    "cmp = get('CMP', 'cmp')\n",
    "fcmp = get('FCMP', 'fcmp')\n"
   ]
  },
  {
   "cell_type": "code",
   "execution_count": 7,
   "metadata": {},
   "outputs": [],
   "source": [
    "insts = list('store' = store, 'load' =load, \n",
    "          'br' = br, \n",
    "          'addsub' = addsub, 'mul' = mul, 'div' = div,\n",
    "          'xor' = xor, 'and' = and, 'or' = or,\n",
    "#           'shl' = shl, 'ashr' = ashr, 'lshr' = lshr,\n",
    "          'fadd' = fadd, 'fsub' = fsub, 'fmul' = fmul, 'fdiv' = fdiv,\n",
    "          'cmp' = cmp, 'fcmp' = fcmp)"
   ]
  },
  {
   "cell_type": "markdown",
   "metadata": {},
   "source": [
    "## Mean"
   ]
  },
  {
   "cell_type": "code",
   "execution_count": 122,
   "metadata": {},
   "outputs": [],
   "source": [
    "filtra <- function(df){\n",
    "    df %>% filter(visible_O0 >= lower_fence(visible_O0) & visible_O0 <= upper_fence(visible_O0) &\n",
    "                visible_O1 >= lower_fence(visible_O1) & visible_O1 <= upper_fence(visible_O1) &\n",
    "                visible_O2 >= lower_fence(visible_O2) & visible_O2 <= upper_fence(visible_O2) &\n",
    "                visible_O3 >= lower_fence(visible_O3) & visible_O3 <= upper_fence(visible_O3))\n",
    "}"
   ]
  },
  {
   "cell_type": "code",
   "execution_count": 124,
   "metadata": {},
   "outputs": [
    {
     "name": "stdout",
     "output_type": "stream",
     "text": [
      "[1] \"store\"\n",
      "  visible_O0 visible_O1 visible_O2 visible_O3\n",
      "1  0.4567124  0.4360234  0.4191537   0.420094\n",
      "  visible_O0 visible_O1 visible_O2 visible_O3\n",
      "1  0.3523776  0.3503333   0.348929  0.3494285\n",
      "[1] \"load\"\n",
      "  visible_O0 visible_O1 visible_O2 visible_O3\n",
      "1  0.6433145  0.5551799   0.527675  0.5281402\n",
      "  visible_O0 visible_O1 visible_O2 visible_O3\n",
      "1  0.3822661  0.3614963  0.3509063  0.3512959\n",
      "[1] \"br\"\n",
      "  visible_O0 visible_O1 visible_O2 visible_O3\n",
      "1  0.6239617  0.5104166  0.4926802   0.491634\n",
      "  visible_O0 visible_O1 visible_O2 visible_O3\n",
      "1  0.3263359  0.3409817  0.3331209  0.3353073\n",
      "[1] \"addsub\"\n",
      "  visible_O0 visible_O1 visible_O2 visible_O3\n",
      "1   0.626986  0.5245486  0.5106404  0.5081329\n",
      "  visible_O0 visible_O1 visible_O2 visible_O3\n",
      "1  0.4602292  0.4210289  0.4139723  0.4170671\n",
      "[1] \"mul\"\n",
      "  visible_O0 visible_O1 visible_O2 visible_O3\n",
      "1  0.3097571  0.2292283  0.2322668  0.2317541\n",
      "  visible_O0 visible_O1 visible_O2 visible_O3\n",
      "1  0.4718759  0.3588498  0.3595215  0.3595506\n",
      "[1] \"div\"\n",
      "  visible_O0 visible_O1 visible_O2 visible_O3\n",
      "1  0.3636657   0.389757  0.3913736  0.3925017\n",
      "  visible_O0 visible_O1 visible_O2 visible_O3\n",
      "1  0.4623845   0.476163  0.4686205  0.4705389\n",
      "[1] \"xor\"\n",
      "   visible_O0   visible_O1   visible_O2   visible_O3\n",
      "1 0.001601257 0.0007930646 0.0008158849 0.0008875551\n",
      "   visible_O0  visible_O1  visible_O2  visible_O3\n",
      "1 0.007216191 0.003186837 0.003113076 0.003189715\n",
      "[1] \"and\"\n",
      "  visible_O0 visible_O1 visible_O2 visible_O3\n",
      "1  0.2347629  0.3061894  0.3490098  0.3572695\n",
      "  visible_O0 visible_O1 visible_O2 visible_O3\n",
      "1   0.451194  0.5043968  0.5354094  0.5505389\n",
      "[1] \"or\"\n",
      "    visible_O0 visible_O1 visible_O2 visible_O3\n",
      "1 0.0009709141   1.065115  0.9091141  0.8557083\n",
      "   visible_O0 visible_O1 visible_O2 visible_O3\n",
      "1 0.005568004   3.736801   2.705324   2.668046\n",
      "[1] \"fadd\"\n",
      "  visible_O0 visible_O1 visible_O2 visible_O3\n",
      "1  0.9765437  0.9822651  0.9820711  0.9820304\n",
      "  visible_O0 visible_O1 visible_O2 visible_O3\n",
      "1 0.07319201  0.0481063 0.04858354  0.0486712\n",
      "[1] \"fsub\"\n",
      "  visible_O0 visible_O1 visible_O2 visible_O3\n",
      "1  0.9038017  0.8703971  0.8827424  0.8807656\n",
      "  visible_O0 visible_O1 visible_O2 visible_O3\n",
      "1  0.3573003  0.3097086   0.327768   0.324508\n",
      "[1] \"fmul\"\n",
      "  visible_O0 visible_O1 visible_O2 visible_O3\n",
      "1   0.999903  0.9998026  0.9998184  0.9998176\n",
      "    visible_O0  visible_O1  visible_O2   visible_O3\n",
      "1 0.0006877644 0.000712287 0.000821139 0.0008214286\n",
      "[1] \"fdiv\"\n",
      "  visible_O0 visible_O1 visible_O2 visible_O3\n",
      "1          1          1          1          1\n",
      "  visible_O0 visible_O1 visible_O2 visible_O3\n",
      "1          0          0          0          0\n",
      "[1] \"cmp\"\n",
      "  visible_O0 visible_O1 visible_O2 visible_O3\n",
      "1   0.698068  0.6945453  0.6722606  0.6877963\n",
      "  visible_O0 visible_O1 visible_O2 visible_O3\n",
      "1  0.3793344  0.5519591  0.5289299  0.5409298\n",
      "[1] \"fcmp\"\n",
      "  visible_O0 visible_O1 visible_O2 visible_O3\n",
      "1  0.3647723  0.4129209  0.4136196  0.4135466\n",
      "  visible_O0 visible_O1 visible_O2 visible_O3\n",
      "1  0.4440202  0.5192502   0.520301  0.5203407\n"
     ]
    }
   ],
   "source": [
    "for (i in seq_along(insts)){\n",
    "    df = insts[[i]]\n",
    "    name = names(insts)[i]\n",
    "    df2 = filtra(df)\n",
    "    media = df2 %>% select(starts_with(\"visible\")) %>% summarise_all(funs(mean), na.rm = T)\n",
    "    desvio = df2 %>% select(starts_with(\"visible\")) %>% summarise_all(funs(sd), na.rm = T)\n",
    "#     print(name)\n",
    "#     print(media)\n",
    "#     print(desvio)\n",
    "}\n"
   ]
  },
  {
   "cell_type": "code",
   "execution_count": 131,
   "metadata": {},
   "outputs": [
    {
     "data": {
      "text/html": [
       "<table>\n",
       "<thead><tr><th scope=col>visible_O0</th><th scope=col>visible_O1</th><th scope=col>visible_O2</th><th scope=col>visible_O3</th></tr></thead>\n",
       "<tbody>\n",
       "\t<tr><td>0.3567586</td><td>0.3260943</td><td>0.3243159</td><td>0.3239745</td></tr>\n",
       "</tbody>\n",
       "</table>\n"
      ],
      "text/latex": [
       "\\begin{tabular}{r|llll}\n",
       " visible\\_O0 & visible\\_O1 & visible\\_O2 & visible\\_O3\\\\\n",
       "\\hline\n",
       "\t 0.3567586 & 0.3260943 & 0.3243159 & 0.3239745\\\\\n",
       "\\end{tabular}\n"
      ],
      "text/markdown": [
       "\n",
       "visible_O0 | visible_O1 | visible_O2 | visible_O3 | \n",
       "|---|\n",
       "| 0.3567586 | 0.3260943 | 0.3243159 | 0.3239745 | \n",
       "\n",
       "\n"
      ],
      "text/plain": [
       "  visible_O0 visible_O1 visible_O2 visible_O3\n",
       "1 0.3567586  0.3260943  0.3243159  0.3239745 "
      ]
     },
     "metadata": {},
     "output_type": "display_data"
    },
    {
     "data": {
      "text/html": [
       "<table>\n",
       "<thead><tr><th scope=col>visible_O0</th><th scope=col>visible_O1</th><th scope=col>visible_O2</th><th scope=col>visible_O3</th></tr></thead>\n",
       "<tbody>\n",
       "\t<tr><td>0.564828 </td><td>0.6657517</td><td>0.6181092</td><td>0.6168801</td></tr>\n",
       "</tbody>\n",
       "</table>\n"
      ],
      "text/latex": [
       "\\begin{tabular}{r|llll}\n",
       " visible\\_O0 & visible\\_O1 & visible\\_O2 & visible\\_O3\\\\\n",
       "\\hline\n",
       "\t 0.564828  & 0.6657517 & 0.6181092 & 0.6168801\\\\\n",
       "\\end{tabular}\n"
      ],
      "text/markdown": [
       "\n",
       "visible_O0 | visible_O1 | visible_O2 | visible_O3 | \n",
       "|---|\n",
       "| 0.564828  | 0.6657517 | 0.6181092 | 0.6168801 | \n",
       "\n",
       "\n"
      ],
      "text/plain": [
       "  visible_O0 visible_O1 visible_O2 visible_O3\n",
       "1 0.564828   0.6657517  0.6181092  0.6168801 "
      ]
     },
     "metadata": {},
     "output_type": "display_data"
    },
    {
     "data": {
      "text/html": [
       "<table>\n",
       "<thead><tr><th scope=col>visible_O0</th><th scope=col>visible_O1</th><th scope=col>visible_O2</th><th scope=col>visible_O3</th></tr></thead>\n",
       "<tbody>\n",
       "\t<tr><td>0.3116655</td><td>0.419066 </td><td>0.2695903</td><td>0.2720342</td></tr>\n",
       "</tbody>\n",
       "</table>\n"
      ],
      "text/latex": [
       "\\begin{tabular}{r|llll}\n",
       " visible\\_O0 & visible\\_O1 & visible\\_O2 & visible\\_O3\\\\\n",
       "\\hline\n",
       "\t 0.3116655 & 0.419066  & 0.2695903 & 0.2720342\\\\\n",
       "\\end{tabular}\n"
      ],
      "text/markdown": [
       "\n",
       "visible_O0 | visible_O1 | visible_O2 | visible_O3 | \n",
       "|---|\n",
       "| 0.3116655 | 0.419066  | 0.2695903 | 0.2720342 | \n",
       "\n",
       "\n"
      ],
      "text/plain": [
       "  visible_O0 visible_O1 visible_O2 visible_O3\n",
       "1 0.3116655  0.419066   0.2695903  0.2720342 "
      ]
     },
     "metadata": {},
     "output_type": "display_data"
    },
    {
     "data": {
      "text/html": [
       "<table>\n",
       "<thead><tr><th scope=col>visible_O0</th><th scope=col>visible_O1</th><th scope=col>visible_O2</th><th scope=col>visible_O3</th></tr></thead>\n",
       "<tbody>\n",
       "\t<tr><td>0.1040898</td><td>0.1664077</td><td>0.1668541</td><td>0.1905882</td></tr>\n",
       "</tbody>\n",
       "</table>\n"
      ],
      "text/latex": [
       "\\begin{tabular}{r|llll}\n",
       " visible\\_O0 & visible\\_O1 & visible\\_O2 & visible\\_O3\\\\\n",
       "\\hline\n",
       "\t 0.1040898 & 0.1664077 & 0.1668541 & 0.1905882\\\\\n",
       "\\end{tabular}\n"
      ],
      "text/markdown": [
       "\n",
       "visible_O0 | visible_O1 | visible_O2 | visible_O3 | \n",
       "|---|\n",
       "| 0.1040898 | 0.1664077 | 0.1668541 | 0.1905882 | \n",
       "\n",
       "\n"
      ],
      "text/plain": [
       "  visible_O0 visible_O1 visible_O2 visible_O3\n",
       "1 0.1040898  0.1664077  0.1668541  0.1905882 "
      ]
     },
     "metadata": {},
     "output_type": "display_data"
    }
   ],
   "source": [
    "fadd %>% select(starts_with(\"visible\")) %>% summarize_all(funs(sd), na.rm = T)\n",
    "fsub %>% filter(Benchmark != 'Benchs/Linpack' & Benchmark != 'Benchs/BenchmarkGame/recursive' & Benchmark != 'Benchs/VersaBench/beamformer') %>% select(starts_with(\"visible\")) %>% summarise_all(funs(sd), na.rm = T)\n",
    "fmul %>% filter(group != 'mafft') %>% select(starts_with(\"visible\")) %>% summarise_all(funs(sd), na.rm = T)\n",
    "fdiv %>% filter(Benchmark != 'Benchs/PolyBench/medley/deriche') %>% select(starts_with(\"visible\")) %>% summarise_all(funs(sd), na.rm = T)"
   ]
  },
  {
   "cell_type": "markdown",
   "metadata": {},
   "source": [
    "## end mean"
   ]
  },
  {
   "cell_type": "markdown",
   "metadata": {},
   "source": [
    "# Test suites"
   ]
  },
  {
   "cell_type": "code",
   "execution_count": 11,
   "metadata": {},
   "outputs": [
    {
     "data": {
      "text/html": [
       "<ol class=list-inline>\n",
       "\t<li>'ASC_Sequoia'</li>\n",
       "\t<li>'ASCI_Purple'</li>\n",
       "\t<li>'BenchmarkGame'</li>\n",
       "\t<li>'BitBench'</li>\n",
       "\t<li>'CoyoteBench'</li>\n",
       "\t<li>'cpu2006'</li>\n",
       "\t<li>'Dhrystone'</li>\n",
       "\t<li>'DOE_ProxyApps_C'</li>\n",
       "\t<li>'Fhourstones'</li>\n",
       "\t<li>'Fhourstones_31'</li>\n",
       "\t<li>'FreeBench'</li>\n",
       "\t<li>'Linpack'</li>\n",
       "\t<li>'llubenchmark'</li>\n",
       "\t<li>'MallocBench'</li>\n",
       "\t<li>'McCat'</li>\n",
       "\t<li>'McGill'</li>\n",
       "\t<li>'mediabench'</li>\n",
       "\t<li>'MiBench'</li>\n",
       "\t<li>'nbench'</li>\n",
       "\t<li>'NPB-serial'</li>\n",
       "\t<li>'Olden'</li>\n",
       "\t<li>'PAQ8p'</li>\n",
       "\t<li>'PolyBench'</li>\n",
       "\t<li>'Prolangs-C'</li>\n",
       "\t<li>'Ptrdist'</li>\n",
       "\t<li>'SciMark2-C'</li>\n",
       "\t<li>'Shootout'</li>\n",
       "\t<li>'sim'</li>\n",
       "\t<li>'Stanford'</li>\n",
       "\t<li>'tramp3d-v4'</li>\n",
       "\t<li>'Trimaran'</li>\n",
       "\t<li>'VersaBench'</li>\n",
       "</ol>\n"
      ],
      "text/latex": [
       "\\begin{enumerate*}\n",
       "\\item 'ASC\\_Sequoia'\n",
       "\\item 'ASCI\\_Purple'\n",
       "\\item 'BenchmarkGame'\n",
       "\\item 'BitBench'\n",
       "\\item 'CoyoteBench'\n",
       "\\item 'cpu2006'\n",
       "\\item 'Dhrystone'\n",
       "\\item 'DOE\\_ProxyApps\\_C'\n",
       "\\item 'Fhourstones'\n",
       "\\item 'Fhourstones\\_31'\n",
       "\\item 'FreeBench'\n",
       "\\item 'Linpack'\n",
       "\\item 'llubenchmark'\n",
       "\\item 'MallocBench'\n",
       "\\item 'McCat'\n",
       "\\item 'McGill'\n",
       "\\item 'mediabench'\n",
       "\\item 'MiBench'\n",
       "\\item 'nbench'\n",
       "\\item 'NPB-serial'\n",
       "\\item 'Olden'\n",
       "\\item 'PAQ8p'\n",
       "\\item 'PolyBench'\n",
       "\\item 'Prolangs-C'\n",
       "\\item 'Ptrdist'\n",
       "\\item 'SciMark2-C'\n",
       "\\item 'Shootout'\n",
       "\\item 'sim'\n",
       "\\item 'Stanford'\n",
       "\\item 'tramp3d-v4'\n",
       "\\item 'Trimaran'\n",
       "\\item 'VersaBench'\n",
       "\\end{enumerate*}\n"
      ],
      "text/markdown": [
       "1. 'ASC_Sequoia'\n",
       "2. 'ASCI_Purple'\n",
       "3. 'BenchmarkGame'\n",
       "4. 'BitBench'\n",
       "5. 'CoyoteBench'\n",
       "6. 'cpu2006'\n",
       "7. 'Dhrystone'\n",
       "8. 'DOE_ProxyApps_C'\n",
       "9. 'Fhourstones'\n",
       "10. 'Fhourstones_31'\n",
       "11. 'FreeBench'\n",
       "12. 'Linpack'\n",
       "13. 'llubenchmark'\n",
       "14. 'MallocBench'\n",
       "15. 'McCat'\n",
       "16. 'McGill'\n",
       "17. 'mediabench'\n",
       "18. 'MiBench'\n",
       "19. 'nbench'\n",
       "20. 'NPB-serial'\n",
       "21. 'Olden'\n",
       "22. 'PAQ8p'\n",
       "23. 'PolyBench'\n",
       "24. 'Prolangs-C'\n",
       "25. 'Ptrdist'\n",
       "26. 'SciMark2-C'\n",
       "27. 'Shootout'\n",
       "28. 'sim'\n",
       "29. 'Stanford'\n",
       "30. 'tramp3d-v4'\n",
       "31. 'Trimaran'\n",
       "32. 'VersaBench'\n",
       "\n",
       "\n"
      ],
      "text/plain": [
       " [1] \"ASC_Sequoia\"     \"ASCI_Purple\"     \"BenchmarkGame\"   \"BitBench\"       \n",
       " [5] \"CoyoteBench\"     \"cpu2006\"         \"Dhrystone\"       \"DOE_ProxyApps_C\"\n",
       " [9] \"Fhourstones\"     \"Fhourstones_31\"  \"FreeBench\"       \"Linpack\"        \n",
       "[13] \"llubenchmark\"    \"MallocBench\"     \"McCat\"           \"McGill\"         \n",
       "[17] \"mediabench\"      \"MiBench\"         \"nbench\"          \"NPB-serial\"     \n",
       "[21] \"Olden\"           \"PAQ8p\"           \"PolyBench\"       \"Prolangs-C\"     \n",
       "[25] \"Ptrdist\"         \"SciMark2-C\"      \"Shootout\"        \"sim\"            \n",
       "[29] \"Stanford\"        \"tramp3d-v4\"      \"Trimaran\"        \"VersaBench\"     "
      ]
     },
     "metadata": {},
     "output_type": "display_data"
    }
   ],
   "source": [
    "store$group %>% unique"
   ]
  },
  {
   "cell_type": "code",
   "execution_count": null,
   "metadata": {},
   "outputs": [],
   "source": []
  },
  {
   "cell_type": "code",
   "execution_count": null,
   "metadata": {},
   "outputs": [],
   "source": []
  },
  {
   "cell_type": "code",
   "execution_count": null,
   "metadata": {},
   "outputs": [],
   "source": []
  },
  {
   "cell_type": "code",
   "execution_count": 12,
   "metadata": {},
   "outputs": [],
   "source": [
    "std <- function(x){\n",
    "    x = x[sapply(x, function(e) !is.na(e))]\n",
    "    n = length(x)\n",
    "    sqrt(sum((x - mean(x))^2)/(n))\n",
    "}\n",
    "\n",
    "upper <- function(x){\n",
    "    x = x[sapply(x, function(e) !is.na(e))]\n",
    "    mean(x) + 2*std(x)\n",
    "}\n",
    "\n",
    "lower <- function(x){\n",
    "    x = x[sapply(x, function(e) !is.na(e))]\n",
    "    mean(x) - 2*std(x)\n",
    "}\n",
    "                 \n",
    "lower_fence <- function(x){\n",
    "    Q1 = quantile(x, .25, na.rm = T)\n",
    "    Q3 = quantile(x, .75, na.rm = T)\n",
    "    IRQ = Q3 - Q1\n",
    "    Q1 - 1.5*IRQ\n",
    "}\n",
    "                 \n",
    "upper_fence <- function(x){\n",
    "    Q1 = quantile(x, .25, na.rm = T)\n",
    "    Q3 = quantile(x, .75, na.rm = T)\n",
    "    IRQ = Q3 - Q1\n",
    "    Q3 + 1.5*IRQ\n",
    "}"
   ]
  },
  {
   "cell_type": "code",
   "execution_count": 174,
   "metadata": {},
   "outputs": [],
   "source": [
    "plot <- function(df, name, filtra = T){\n",
    "    mypal <- colorRampPalette( brewer.pal( 12 , \"Paired\" ) )\n",
    "#     Q1 = quantile(df$visible, .25, na.rm = TRUE)\n",
    "#     Q3 = quantile(df$visible, .75, na.rm = TRUE)\n",
    "#     IRQ = Q3 - Q1\n",
    "#     df2 = df %>% filter (invisible <= Q3 + 1.5*IRQ)\n",
    "\n",
    "#     df2 = df %>%\n",
    "#         filter(visible_O0 >= lower(visible_O0) & visible_O0 <= upper(visible_O0)) %>%\n",
    "#         filter(visible_O1 >= lower(visible_O1) & visible_O1 <= upper(visible_O1)) %>%\n",
    "#         filter(visible_O2 >= lower(visible_O2) & visible_O2 <= upper(visible_O2)) %>%\n",
    "#         filter(visible_O3 >= lower(visible_O3) & visible_O3 <= upper(visible_O3)) %>%\n",
    "    \n",
    "    if (filtra == T){\n",
    "        df2 = df %>%\n",
    "            filter(visible_O0 >= lower_fence(visible_O0) & visible_O0 <= upper_fence(visible_O0) &\n",
    "                visible_O1 >= lower_fence(visible_O1) & visible_O1 <= upper_fence(visible_O1) &\n",
    "                visible_O2 >= lower_fence(visible_O2) & visible_O2 <= upper_fence(visible_O2) &\n",
    "                visible_O3 >= lower_fence(visible_O3) & visible_O3 <= upper_fence(visible_O3)) %>%\n",
    "            gather('id', 'visible', c('visible_O0', 'visible_O1', 'visible_O2', 'visible_O3'))\n",
    "    }\n",
    "    else {\n",
    "        df2 = df %>% gather('id', 'visible', c('visible_O0', 'visible_O1', 'visible_O2', 'visible_O3'))\n",
    "    }\n",
    "    \n",
    "    \n",
    "    (ggplot(df2)\n",
    "     + stat_ecdf(aes(visible, colour=id), geom = \"step\", pad = FALSE)\n",
    "     + expand_limits(x=0)\n",
    "     + ylim(0, 1)\n",
    "     + xlab('Percentage Visible')\n",
    "     + ylab('CDF(x)')\n",
    "     + theme_light()\n",
    "     + guides(colour = guide_legend(title=''))\n",
    "     + scale_color_manual(name='', labels = c(\"O0\", \"O1\", \"O2\", \"O3\"), values = c('grey90', 'grey65', 'grey45', 'grey30'))\n",
    "     + theme(legend.position = 'top', panel.grid.major = element_blank(), panel.grid.minor = element_blank(), \n",
    "             legend.text = element_text(size=10))\n",
    "     + theme(axis.title=element_text(size=10), axis.text=element_text(size=10))\n",
    "     + guides(colour = guide_legend(override.aes = list(size=0.75))) \n",
    "     + ggsave(paste(\"pdfs/\", name, \".pdf\", sep=\"\"), width=4, height=3, device=\"pdf\")\n",
    "    )\n",
    "}"
   ]
  },
  {
   "cell_type": "code",
   "execution_count": 180,
   "metadata": {},
   "outputs": [
    {
     "data": {
      "text/html": [
       "51"
      ],
      "text/latex": [
       "51"
      ],
      "text/markdown": [
       "51"
      ],
      "text/plain": [
       "[1] 51"
      ]
     },
     "metadata": {},
     "output_type": "display_data"
    }
   ],
   "source": [
    "mul %>% filter(visible_O0 == 0.0) %>% nrow"
   ]
  },
  {
   "cell_type": "code",
   "execution_count": 175,
   "metadata": {},
   "outputs": [
    {
     "name": "stderr",
     "output_type": "stream",
     "text": [
      "geom_path: Each group consists of only one observation. Do you need to adjust\n",
      "the group aesthetic?\n"
     ]
    }
   ],
   "source": [
    "for (i in seq_along(insts)){\n",
    "    df = insts[[i]]\n",
    "    name = names(insts)[i]\n",
    "    plot(df, name)\n",
    "}"
   ]
  },
  {
   "cell_type": "code",
   "execution_count": 15,
   "metadata": {},
   "outputs": [
    {
     "name": "stderr",
     "output_type": "stream",
     "text": [
      "Warning message:\n",
      "“Removed 377 rows containing non-finite values (stat_ecdf).”Warning message:\n",
      "“Removed 377 rows containing non-finite values (stat_ecdf).”"
     ]
    },
    {
     "data": {},
     "metadata": {},
     "output_type": "display_data"
    },
    {
     "name": "stderr",
     "output_type": "stream",
     "text": [
      "Warning message:\n",
      "“Removed 478 rows containing non-finite values (stat_ecdf).”Warning message:\n",
      "“Removed 478 rows containing non-finite values (stat_ecdf).”"
     ]
    },
    {
     "data": {},
     "metadata": {},
     "output_type": "display_data"
    },
    {
     "data": {
      "image/png": "[encoded data removed]",
      "text/plain": [
       "plot without title"
      ]
     },
     "metadata": {},
     "output_type": "display_data"
    },
    {
     "name": "stderr",
     "output_type": "stream",
     "text": [
      "Warning message:\n",
      "“Removed 387 rows containing non-finite values (stat_ecdf).”Warning message:\n",
      "“Removed 387 rows containing non-finite values (stat_ecdf).”"
     ]
    },
    {
     "data": {},
     "metadata": {},
     "output_type": "display_data"
    },
    {
     "data": {
      "image/png": "[encoded data removed]",
      "text/plain": [
       "plot without title"
      ]
     },
     "metadata": {},
     "output_type": "display_data"
    },
    {
     "name": "stderr",
     "output_type": "stream",
     "text": [
      "Warning message:\n",
      "“Removed 399 rows containing non-finite values (stat_ecdf).”Warning message:\n",
      "“Removed 399 rows containing non-finite values (stat_ecdf).”"
     ]
    },
    {
     "data": {},
     "metadata": {},
     "output_type": "display_data"
    },
    {
     "data": {
      "image/png": "[encoded data removed]",
      "text/plain": [
       "plot without title"
      ]
     },
     "metadata": {},
     "output_type": "display_data"
    },
    {
     "data": {
      "image/png": "[encoded data removed]",
      "text/plain": [
       "plot without title"
      ]
     },
     "metadata": {},
     "output_type": "display_data"
    }
   ],
   "source": [
    "plot(fadd, 'fadd', filtra = F)\n",
    "fsub %>% filter(Benchmark != 'Benchs/Linpack' & Benchmark != 'Benchs/BenchmarkGame/recursive' & Benchmark != 'Benchs/VersaBench/beamformer') %>% plot(., 'fsub', filtra = F)\n",
    "fmul %>% filter(group != 'mafft') %>% plot(., 'fmul', filtra = F)\n",
    "fdiv %>% filter(Benchmark != 'Benchs/PolyBench/medley/deriche') %>% plot(., 'fdiv', filtra = F)"
   ]
  },
  {
   "cell_type": "code",
   "execution_count": null,
   "metadata": {},
   "outputs": [],
   "source": []
  },
  {
   "cell_type": "code",
   "execution_count": 16,
   "metadata": {},
   "outputs": [
    {
     "data": {
      "text/html": [
       "<table>\n",
       "<thead><tr><th scope=col>Benchmark</th><th scope=col>group</th><th scope=col>visible_O0</th><th scope=col>visible_O1</th><th scope=col>visible_O2</th><th scope=col>visible_O3</th><th scope=col>ratio</th></tr></thead>\n",
       "<tbody>\n",
       "\t<tr><td>Benchs/Stanford/Bubblesort</td><td>Stanford                  </td><td>0.9904693                 </td><td>0.9904401                 </td><td>0.9904401                 </td><td>0.9904401                 </td><td>1.000029                  </td></tr>\n",
       "\t<tr><td>Benchs/Stanford/Puzzle    </td><td>Stanford                  </td><td>0.4193842                 </td><td>0.3661467                 </td><td>0.3611667                 </td><td>0.3599787                 </td><td>1.165025                  </td></tr>\n",
       "</tbody>\n",
       "</table>\n"
      ],
      "text/latex": [
       "\\begin{tabular}{r|lllllll}\n",
       " Benchmark & group & visible\\_O0 & visible\\_O1 & visible\\_O2 & visible\\_O3 & ratio\\\\\n",
       "\\hline\n",
       "\t Benchs/Stanford/Bubblesort & Stanford                   & 0.9904693                  & 0.9904401                  & 0.9904401                  & 0.9904401                  & 1.000029                  \\\\\n",
       "\t Benchs/Stanford/Puzzle     & Stanford                   & 0.4193842                  & 0.3661467                  & 0.3611667                  & 0.3599787                  & 1.165025                  \\\\\n",
       "\\end{tabular}\n"
      ],
      "text/markdown": [
       "\n",
       "Benchmark | group | visible_O0 | visible_O1 | visible_O2 | visible_O3 | ratio | \n",
       "|---|---|\n",
       "| Benchs/Stanford/Bubblesort | Stanford                   | 0.9904693                  | 0.9904401                  | 0.9904401                  | 0.9904401                  | 1.000029                   | \n",
       "| Benchs/Stanford/Puzzle     | Stanford                   | 0.4193842                  | 0.3661467                  | 0.3611667                  | 0.3599787                  | 1.165025                   | \n",
       "\n",
       "\n"
      ],
      "text/plain": [
       "  Benchmark                  group    visible_O0 visible_O1 visible_O2\n",
       "1 Benchs/Stanford/Bubblesort Stanford 0.9904693  0.9904401  0.9904401 \n",
       "2 Benchs/Stanford/Puzzle     Stanford 0.4193842  0.3661467  0.3611667 \n",
       "  visible_O3 ratio   \n",
       "1 0.9904401  1.000029\n",
       "2 0.3599787  1.165025"
      ]
     },
     "metadata": {},
     "output_type": "display_data"
    }
   ],
   "source": [
    "store %>% select(Benchmark, group, starts_with(\"visible\")) %>% filter(visible_O0 > visible_O3) %>% mutate(ratio = visible_O0 / visible_O3) %>% filter(group == \"Stanford\")"
   ]
  },
  {
   "cell_type": "code",
   "execution_count": null,
   "metadata": {},
   "outputs": [],
   "source": []
  },
  {
   "cell_type": "code",
   "execution_count": null,
   "metadata": {},
   "outputs": [],
   "source": []
  },
  {
   "cell_type": "code",
   "execution_count": null,
   "metadata": {},
   "outputs": [],
   "source": []
  },
  {
   "cell_type": "markdown",
   "metadata": {},
   "source": [
    "# Correlation"
   ]
  },
  {
   "cell_type": "code",
   "execution_count": 142,
   "metadata": {},
   "outputs": [
    {
     "name": "stderr",
     "output_type": "stream",
     "text": [
      "Parsed with column specification:\n",
      "cols(\n",
      "  Benchmark = col_character(),\n",
      "  group = col_character(),\n",
      "  Runtime = col_double()\n",
      ")\n",
      "Parsed with column specification:\n",
      "cols(\n",
      "  Benchmark = col_character(),\n",
      "  group = col_character(),\n",
      "  Runtime = col_double()\n",
      ")\n",
      "Parsed with column specification:\n",
      "cols(\n",
      "  .default = col_double(),\n",
      "  Benchmark = col_character()\n",
      ")\n",
      "See spec(...) for full column specifications.\n",
      "Parsed with column specification:\n",
      "cols(\n",
      "  .default = col_double(),\n",
      "  Benchmark = col_character()\n",
      ")\n",
      "See spec(...) for full column specifications.\n",
      "Parsed with column specification:\n",
      "cols(\n",
      "  Benchmark = col_character(),\n",
      "  store_before = col_double(),\n",
      "  store_main = col_double(),\n",
      "  store_end = col_double()\n",
      ")\n",
      "Parsed with column specification:\n",
      "cols(\n",
      "  Benchmark = col_character(),\n",
      "  store_before = col_double(),\n",
      "  store_main = col_double(),\n",
      "  store_end = col_double()\n",
      ")\n",
      "Parsed with column specification:\n",
      "cols(\n",
      "  .default = col_double(),\n",
      "  Benchmark = col_character()\n",
      ")\n",
      "See spec(...) for full column specifications.\n",
      "Parsed with column specification:\n",
      "cols(\n",
      "  .default = col_double(),\n",
      "  Benchmark = col_character()\n",
      ")\n",
      "See spec(...) for full column specifications.\n",
      "Parsed with column specification:\n",
      "cols(\n",
      "  Benchmark = col_character(),\n",
      "  load_before = col_double(),\n",
      "  load_main = col_double(),\n",
      "  load_end = col_double()\n",
      ")\n",
      "Parsed with column specification:\n",
      "cols(\n",
      "  Benchmark = col_character(),\n",
      "  load_before = col_double(),\n",
      "  load_main = col_double(),\n",
      "  load_end = col_double()\n",
      ")\n",
      "Parsed with column specification:\n",
      "cols(\n",
      "  .default = col_double(),\n",
      "  Benchmark = col_character()\n",
      ")\n",
      "See spec(...) for full column specifications.\n",
      "Parsed with column specification:\n",
      "cols(\n",
      "  .default = col_double(),\n",
      "  Benchmark = col_character()\n",
      ")\n",
      "See spec(...) for full column specifications.\n",
      "Parsed with column specification:\n",
      "cols(\n",
      "  Benchmark = col_character(),\n",
      "  br_before = col_double(),\n",
      "  br_main = col_double(),\n",
      "  br_end = col_double(),\n",
      "  indirect_before = col_double(),\n",
      "  indirect_main = col_double(),\n",
      "  indirect_end = col_double()\n",
      ")\n",
      "Parsed with column specification:\n",
      "cols(\n",
      "  Benchmark = col_character(),\n",
      "  br_before = col_double(),\n",
      "  br_main = col_double(),\n",
      "  br_end = col_double(),\n",
      "  indirect_before = col_double(),\n",
      "  indirect_main = col_double(),\n",
      "  indirect_end = col_double()\n",
      ")\n"
     ]
    }
   ],
   "source": [
    "time_reg = read_csv('time/time_ssa.csv') %>% select(Benchmark, Runtime) %>% rename(Runtime_reg = Runtime) %>% arrange(Benchmark)\n",
    "time_mem = read_csv('time/time_no_ssa.csv') %>% select(Benchmark, Runtime) %>% rename(Runtime_mem = Runtime) %>% arrange(Benchmark)\n",
    "\n",
    "# store_df = store %>% select(Benchmark, visible_O0) %>% arrange(Benchmark)\n",
    "store_ir_reg = read_csv('dataO0/count_ssa.csv') %>% select(Benchmark, STORE) %>% rename(store_ir_reg = STORE) %>% arrange(Benchmark)\n",
    "store_ir_mem = read_csv('count_no_ssa.csv') %>% select(Benchmark, STORE) %>% rename (store_ir_mem = STORE) %>% arrange(Benchmark)\n",
    "store_x86_reg = read_csv('dataO0/stores.csv') %>% select(Benchmark, store_main) %>% rename(store_x86_reg = store_main) %>% arrange(Benchmark)\n",
    "store_x86_mem = read_csv('stores_no_ssa.csv') %>% select(Benchmark, store_main) %>% rename(store_x86_mem = store_main) %>% arrange(Benchmark)\n",
    "\n",
    "# load_df = load %>% select(Benchmark, visible_O0) %>% arrange(Benchmark)\n",
    "load_ir_reg = read_csv('dataO0/count_ssa.csv') %>% select(Benchmark, LOAD) %>% rename(load_ir_reg = LOAD) %>% arrange(Benchmark)\n",
    "load_ir_mem = read_csv('count_no_ssa.csv') %>% select(Benchmark, LOAD) %>% rename (load_ir_mem = LOAD) %>% arrange(Benchmark)\n",
    "load_x86_reg = read_csv('dataO0/loads.csv') %>% select(Benchmark, load_main) %>% rename(load_x86_reg = load_main) %>% arrange(Benchmark)\n",
    "load_x86_mem = read_csv('loads_no_ssa.csv') %>% select(Benchmark, load_main) %>% rename(load_x86_mem = load_main) %>% arrange(Benchmark)\n",
    "\n",
    "# \n",
    "br_ir_reg = read_csv('dataO0/count_ssa.csv') %>% select(Benchmark, BR) %>% rename(br_ir_reg = BR) %>% arrange(Benchmark)\n",
    "br_ir_mem = read_csv('count_no_ssa.csv') %>% select(Benchmark, BR) %>% rename (br_ir_mem = BR) %>% arrange(Benchmark)\n",
    "br_x86_reg = read_csv('dataO0/br.csv') %>% select(Benchmark, br_main, indirect_main) %>% mutate(br_x86_reg = br_main + indirect_main) %>% arrange(Benchmark)\n",
    "br_x86_mem = read_csv('br_no_ssa.csv') %>% select(Benchmark, br_main, indirect_main) %>% mutate(br_x86_mem = br_main + indirect_main) %>% arrange(Benchmark)"
   ]
  },
  {
   "cell_type": "code",
   "execution_count": 188,
   "metadata": {},
   "outputs": [],
   "source": [
    "time = inner_join(time_reg, time_mem, by='Benchmark')\n",
    "store_df = inner_join(store_ir_mem, store_ir_reg, by='Benchmark') %>% inner_join(store_x86_reg, by='Benchmark') %>% inner_join(store_x86_mem, by='Benchmark')\n",
    "load_df = inner_join(load_ir_mem, load_ir_reg, by='Benchmark') %>% inner_join(load_x86_reg, by='Benchmark') %>% inner_join(load_x86_mem, by='Benchmark')\n",
    "br_df = inner_join(br_ir_mem, br_ir_reg, by='Benchmark') %>% inner_join(br_x86_reg, by='Benchmark') %>% inner_join(br_x86_mem, by='Benchmark') %>% \n",
    "    select(Benchmark, br_ir_mem, br_ir_reg, br_x86_mem, br_x86_reg)\n",
    "\n",
    "df= inner_join(store_df, load_df, by='Benchmark', suffix = c('_store', '_load')) %>% \n",
    "    inner_join(., time, by='Benchmark') %>%\n",
    "    inner_join(., br_df, by='Benchmark') %>%\n",
    "    as_tibble() %>%\n",
    "    mutate(\n",
    "        Runtime_ratio = Runtime_mem / Runtime_reg,\n",
    "        store_ratio = (store_ir_mem / store_x86_mem) / (store_ir_reg / store_x86_reg),\n",
    "        load_ratio = (load_ir_mem / load_x86_mem) / (load_ir_reg / load_x86_reg),\n",
    "        br_ratio = (br_ir_mem / br_x86_mem) / (br_ir_reg / br_x86_reg),\n",
    "        group = sapply(strsplit(as.character(Benchmark), \"/\"), function(x) x[2])\n",
    "    )"
   ]
  },
  {
   "cell_type": "code",
   "execution_count": 152,
   "metadata": {},
   "outputs": [
    {
     "data": {
      "text/plain": [
       "\n",
       "\tPearson's product-moment correlation\n",
       "\n",
       "data:  df2$Runtime_ratio and df2$br_ratio\n",
       "t = -1.0645, df = 22, p-value = 0.2987\n",
       "alternative hypothesis: true correlation is not equal to 0\n",
       "95 percent confidence interval:\n",
       " -0.5735141  0.1999253\n",
       "sample estimates:\n",
       "       cor \n",
       "-0.2213208 \n"
      ]
     },
     "metadata": {},
     "output_type": "display_data"
    }
   ],
   "source": [
    "df2 = df %>% \n",
    "    filter(Runtime_mem >= 15 & group != 'CoyoteBench')\n",
    "cor.test(df2$Runtime_ratio, df2$br_ratio, method='pearson')"
   ]
  },
  {
   "cell_type": "code",
   "execution_count": 95,
   "metadata": {},
   "outputs": [],
   "source": [
    "library(latex2exp)\n",
    "library(ggplot2)"
   ]
  },
  {
   "cell_type": "code",
   "execution_count": 119,
   "metadata": {},
   "outputs": [
    {
     "data": {},
     "metadata": {},
     "output_type": "display_data"
    },
    {
     "data": {
      "image/png": "[encoded data removed]",
      "text/plain": [
       "plot without title"
      ]
     },
     "metadata": {},
     "output_type": "display_data"
    }
   ],
   "source": [
    "df2 %>% ggplot(.) + \n",
    " ylab(TeX(\"$S_{M/R}$\")) +\n",
    " xlab(TeX(\"$\\\\rho_{M/R}$\")) +\n",
    " scale_shape_manual(name='', values=c(4, 8, 11, 19, 15), labels=c('cpu', 'llu', 'mafft', 'Poly', 'SciMark')) +\n",
    " geom_point(aes(x=store_ratio, y=Runtime_ratio, shape=group)) + \n",
    " theme_light() +\n",
    " theme(legend.position = 'top', panel.grid.major = element_blank(), panel.grid.minor = element_blank(), legend.text = element_text(size=10)) +\n",
    " guides(colour = guide_legend(override.aes = list(size=0.75))) +\n",
    " ggsave(paste(\"fig_store\", \".pdf\", sep=\"\"), width=4, height=3, device=\"pdf\")"
   ]
  },
  {
   "cell_type": "code",
   "execution_count": null,
   "metadata": {},
   "outputs": [],
   "source": []
  },
  {
   "cell_type": "markdown",
   "metadata": {},
   "source": [
    "# Address Sanitizer"
   ]
  },
  {
   "cell_type": "code",
   "execution_count": 154,
   "metadata": {},
   "outputs": [
    {
     "name": "stderr",
     "output_type": "stream",
     "text": [
      "Parsed with column specification:\n",
      "cols(\n",
      "  Benchmark = col_character(),\n",
      "  group = col_character(),\n",
      "  Runtime = col_double()\n",
      ")\n",
      "Parsed with column specification:\n",
      "cols(\n",
      "  Benchmark = col_character(),\n",
      "  group = col_character(),\n",
      "  Runtime = col_double()\n",
      ")\n"
     ]
    }
   ],
   "source": [
    "time_asan = read_csv('time/time_asan.csv') %>% select(Benchmark, Runtime) %>% rename(Runtime_asan = Runtime) %>% arrange(Benchmark)\n",
    "time_reg = read_csv('time/time_ssa.csv') %>% select(Benchmark, Runtime) %>% rename(Runtime_reg = Runtime) %>% arrange(Benchmark)"
   ]
  },
  {
   "cell_type": "code",
   "execution_count": 161,
   "metadata": {},
   "outputs": [],
   "source": [
    "time = inner_join(time_asan, time_reg, by='Benchmark')\n",
    "store_df = inner_join(store_ir_mem, store_ir_reg, by='Benchmark') %>% inner_join(store_x86_reg, by='Benchmark') %>% inner_join(store_x86_mem, by='Benchmark')\n",
    "load_df = inner_join(load_ir_mem, load_ir_reg, by='Benchmark') %>% inner_join(load_x86_reg, by='Benchmark') %>% inner_join(load_x86_mem, by='Benchmark')\n",
    "\n",
    "df= inner_join(store_df, load_df, by='Benchmark', suffix = c('_store', '_load')) %>% \n",
    "    inner_join(., time, by='Benchmark') %>%\n",
    "    inner_join(., br_df, by='Benchmark') %>%\n",
    "    as_tibble() %>%\n",
    "    mutate(\n",
    "        Runtime_ratio = Runtime_asan / Runtime_reg,\n",
    "        store_ratio = (store_ir_mem / store_x86_mem) / (store_ir_reg / store_x86_reg),\n",
    "        load_ratio = (load_ir_mem / load_x86_mem) / (load_ir_reg / load_x86_reg),\n",
    "        br_ratio = (br_ir_mem / br_x86_mem) / (br_ir_reg / br_x86_reg),\n",
    "        group = sapply(strsplit(as.character(Benchmark), \"/\"), function(x) x[2])\n",
    "    )"
   ]
  },
  {
   "cell_type": "code",
   "execution_count": 164,
   "metadata": {},
   "outputs": [
    {
     "data": {
      "text/plain": [
       "\n",
       "\tPearson's product-moment correlation\n",
       "\n",
       "data:  df2$load_ratio and df2$Runtime_ratio\n",
       "t = -8.6437, df = 23, p-value = 1.109e-08\n",
       "alternative hypothesis: true correlation is not equal to 0\n",
       "95 percent confidence interval:\n",
       " -0.9435486 -0.7323205\n",
       "sample estimates:\n",
       "       cor \n",
       "-0.8744255 \n"
      ]
     },
     "metadata": {},
     "output_type": "display_data"
    }
   ],
   "source": [
    "df2 = df %>% \n",
    "    filter(Runtime_reg >= 15 & group != 'CoyoteBench')\n",
    "cor.test(df2$load_ratio, df2$Runtime_ratio, method='pearson')"
   ]
  },
  {
   "cell_type": "code",
   "execution_count": null,
   "metadata": {},
   "outputs": [],
   "source": []
  },
  {
   "cell_type": "code",
   "execution_count": 166,
   "metadata": {},
   "outputs": [
    {
     "data": {},
     "metadata": {},
     "output_type": "display_data"
    },
    {
     "data": {
      "image/png": "[encoded data removed]",
      "text/plain": [
       "plot without title"
      ]
     },
     "metadata": {},
     "output_type": "display_data"
    }
   ],
   "source": [
    "df2 %>% ggplot(.) +  geom_point(aes(x=load_ratio, y=Runtime_ratio, color=group))"
   ]
  },
  {
   "cell_type": "code",
   "execution_count": 29,
   "metadata": {},
   "outputs": [
    {
     "data": {},
     "metadata": {},
     "output_type": "display_data"
    },
    {
     "data": {
      "image/png": "[encoded data removed]",
      "text/plain": [
       "plot without title"
      ]
     },
     "metadata": {},
     "output_type": "display_data"
    }
   ],
   "source": [
    "df %>% ggplot(.) + stat_ecdf(aes(Runtime_ratio))"
   ]
  },
  {
   "cell_type": "code",
   "execution_count": null,
   "metadata": {},
   "outputs": [],
   "source": []
  },
  {
   "cell_type": "code",
   "execution_count": null,
   "metadata": {},
   "outputs": [],
   "source": []
  },
  {
   "cell_type": "code",
   "execution_count": null,
   "metadata": {},
   "outputs": [],
   "source": []
  },
  {
   "cell_type": "code",
   "execution_count": null,
   "metadata": {},
   "outputs": [],
   "source": []
  },
  {
   "cell_type": "code",
   "execution_count": null,
   "metadata": {},
   "outputs": [],
   "source": []
  },
  {
   "cell_type": "code",
   "execution_count": null,
   "metadata": {},
   "outputs": [],
   "source": []
  },
  {
   "cell_type": "code",
   "execution_count": null,
   "metadata": {},
   "outputs": [],
   "source": []
  },
  {
   "cell_type": "code",
   "execution_count": null,
   "metadata": {},
   "outputs": [],
   "source": []
  },
  {
   "cell_type": "code",
   "execution_count": null,
   "metadata": {},
   "outputs": [],
   "source": []
  },
  {
   "cell_type": "code",
   "execution_count": null,
   "metadata": {},
   "outputs": [],
   "source": []
  }
 ],
 "metadata": {
  "kernelspec": {
   "display_name": "R",
   "language": "R",
   "name": "ir"
  },
  "language_info": {
   "codemirror_mode": "r",
   "file_extension": ".r",
   "mimetype": "text/x-r-source",
   "name": "R",
   "pygments_lexer": "r",
   "version": "3.5.1"
  }
 },
 "nbformat": 4,
 "nbformat_minor": 2
}
